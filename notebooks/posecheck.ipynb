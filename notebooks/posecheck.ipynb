{
    "cells": [
        {
            "cell_type": "code",
            "execution_count": 3,
            "metadata": {},
            "outputs": [],
            "source": [
                "from typing import List, Tuple, Union\n",
                "import numpy as np\n",
                "import datamol as dm\n",
                "import rdkit.Chem as Chem\n",
                "import pandas as pd\n",
                "\n",
                "from posecheck.utils.clashes import count_clashes\n",
                "from posecheck.utils.loading import load_protein_from_pdb, read_pdbqt, load_mols_from_sdf, load_mols_from_rdkit\n",
                "\n",
                "from posecheck.utils.strain import get_strain_energy, calculate_energy\n",
                "from posecheck.utils.interactions import generate_interaction_df\n",
                "from posecheck.utils.docking import SMINA\n",
                "from posecheck.utils.constants import EXAMPLE_PDB_PATH, EXAMPLE_LIGAND_PATH"
            ]
        },
        {
            "cell_type": "code",
            "execution_count": 8,
            "metadata": {},
            "outputs": [
                {
                    "name": "stdout",
                    "output_type": "stream",
                    "text": [
                        "Number of clashes: [2]\n",
                        "Strain energy: [19.110000000000007]\n"
                    ]
                },
                {
                    "name": "stderr",
                    "output_type": "stream",
                    "text": [
                        "100%|██████████| 1/1 [00:00<00:00, 24.91it/s]"
                    ]
                },
                {
                    "name": "stdout",
                    "output_type": "stream",
                    "text": [
                        "No. of interactions: ligand             UNL1                                               \\\n",
                        "protein         ARG48.A              HIS175.A    THR180.A   SER185.A   \n",
                        "interaction Hydrophobic VdWContact VdWContact Hydrophobic HBAcceptor   \n",
                        "Frame                                                                  \n",
                        "0                  True       True       True        True       True   \n",
                        "\n",
                        "ligand                                                     \n",
                        "protein                   TRP191.A    LEU232.A             \n",
                        "interaction VdWContact Hydrophobic Hydrophobic VdWContact  \n",
                        "Frame                                                      \n",
                        "0                 True        True        True       True  \n"
                    ]
                },
                {
                    "name": "stderr",
                    "output_type": "stream",
                    "text": [
                        "\n"
                    ]
                }
            ],
            "source": [
                "class PoseCheck(object):\n",
                "    \"\"\"Main class for PoseCheck.\n",
                "\n",
                "    Load a protein-ligand complex, check for clashes, strain, interactions, etc.\n",
                "\n",
                "    Example usage:\n",
                "    >>> pc = PoseCheck()\n",
                "    >>> pc.load_protein_from_pdb(\"data/1a2b.pdb\")\n",
                "    >>> pc.load_ligand_from_sdf(\"data/1a2b_ligand.sdf\")\n",
                "    # Run posecheck\n",
                "    >>> pc.check_clashes()\n",
                "    >>> pc.check_strain()\n",
                "    >>> pc.check_interactions()\n",
                "    # Or run all at once\n",
                "    >>> pc.run()\n",
                "    \"\"\"\n",
                "    def __init__(self, reduce_path: str = \"reduce\",\n",
                "                 clash_tolerance: float = 0.5) -> None:\n",
                "        \"\"\"Initialize the PoseCheck class.\n",
                "\n",
                "        Args:\n",
                "            reduce_path (str, optional): The path to the reduce executable. Defaults to \"reduce\".\n",
                "            clash_tolerance (float, optional): The clash tolerance for checking clashes. Defaults to 0.5 A.\n",
                "        \"\"\"\n",
                "        self.reduce_path = reduce_path\n",
                "        self.clash_tolerance = clash_tolerance\n",
                "\n",
                "\n",
                "    def load_protein_from_pdb(self, pdb_path: str) -> None:\n",
                "        \"\"\"Load a protein from a PDB file.\n",
                "\n",
                "        Args:\n",
                "            pdb_path (str): The path to the PDB file.\n",
                "\n",
                "        Returns:\n",
                "            None\n",
                "        \"\"\"\n",
                "        self.protein = load_protein_from_pdb(pdb_path, reduce_path=self.reduce_path)\n",
                "\n",
                "            \n",
                "    def load_ligands_from_sdf(self, sdf_path: str) -> None:\n",
                "        \"\"\"Load a ligand from an SDF file.\"\"\"\n",
                "        self.ligands = load_mols_from_sdf(sdf_path)\n",
                "\n",
                "    def load_ligands_from_pdbqt(self, pdbqt_path: str) -> None:\n",
                "        \"\"\"Load a ligand from a PDBQT file.\"\"\"\n",
                "        mol = read_pdbqt(pdbqt_path)\n",
                "\n",
                "        # Save to tmp sdf file and load with Hs\n",
                "        tmp_path = pdbqt_path.split(\".pdbqt\")[0] + \"_tmp.pdb\"\n",
                "        dm.to_sdfile(mol, tmp_path)\n",
                "        self.ligands = load_mols_from_sdf(tmp_path)\n",
                "        os.remove(tmp_path)\n",
                "\n",
                "    def load_ligands_from_mols(self, mols: List[Chem.Mol], add_hs: bool = True) -> None:\n",
                "        \"\"\"Load ligands from a list of RDKit mols.\n",
                "\n",
                "        Args:\n",
                "            mols (List[Chem.Mol]): The list of RDKit mol objects representing the ligands.\n",
                "            add_hs (bool, optional): Whether to add hydrogens to the ligands. Defaults to True.\n",
                "\n",
                "        Returns:\n",
                "            None\n",
                "        \"\"\"\n",
                "        self.ligands = load_mols_from_rdkit(mols, add_hs=add_hs)\n",
                "            \n",
                "    def load_ligands(self, ligand) -> None:\n",
                "        \"\"\"Detect ligand type and load.\n",
                "\n",
                "        Args:\n",
                "            ligand (str or Chem.Mol): The ligand to load.\n",
                "\n",
                "        Raises:\n",
                "            ValueError: If the ligand type is unknown.\n",
                "\n",
                "        Returns:\n",
                "            None\n",
                "        \"\"\"\n",
                "        \n",
                "        if isinstance(ligand, str):\n",
                "            if ligand.endswith(\".sdf\"):\n",
                "                self.load_ligand_from_sdf(ligand)\n",
                "            elif ligand.endswith(\".pdbqt\"):\n",
                "                self.load_ligand_from_pdbqt(ligand)\n",
                "            else:\n",
                "                raise ValueError(\"Unknown ligand type.\")\n",
                "        elif isinstance(ligand, Chem.Mol):\n",
                "            self.load_ligand_from_mol(ligand)\n",
                "        else:\n",
                "            raise ValueError(\"Unknown ligand type.\")\n",
                "        \n",
                "    def calculate_clashes(self) -> int:\n",
                "        \"\"\"Calculate the number of steric clashes between protein and ligand.\"\"\"\n",
                "        return [count_clashes(self.protein, mol, tollerance=self.clash_tolerance) for mol in self.ligands]\n",
                "\n",
                "    def calculate_strain_energy(self) -> float:\n",
                "        \"\"\"Calculate the strain energy of the ligand.\"\"\"\n",
                "        return [get_strain_energy(mol) for mol in self.ligands]\n",
                "    \n",
                "    def calculate_interactions(self) -> pd.DataFrame:\n",
                "        \"\"\"Calculate the interactions between the protein and the ligand.\"\"\"\n",
                "        return generate_interaction_df(self.protein, self.ligands)\n",
                "    \n",
                "    def calculate_rmsd(self, mol1: Chem.Mol, mol2: Chem.Mol) -> float:\n",
                "        \"\"\"Calculate the RMSD between two molecules\n",
                "        \n",
                "        For example, the RMSD between the generated ligand pose and one minimized by docking software.\n",
                "        \"\"\"\n",
                "        return rmsd(mol1, mol2)\n",
                "    \n",
                "    def run(self) -> dict:\n",
                "        \"\"\"Execute all of PoseCheck suite and return the results.\n",
                "\n",
                "        This method calculates the clashes, strain energy, and interactions\n",
                "        between the protein and the ligand. The results are returned as a dictionary.\n",
                "\n",
                "        Returns:\n",
                "            dict: A dictionary containing the number of clashes, the strain energy,\n",
                "                  and the interactions between the protein and the ligand.\n",
                "        \"\"\"\n",
                "        clashes = self.calculate_clashes()\n",
                "        strain = self.calculate_strain_energy()\n",
                "        interactions = self.calculate_interactions()\n",
                "        \n",
                "        results = {\n",
                "            \"clashes\": clashes,\n",
                "            \"strain\": strain,\n",
                "            \"interactions\": interactions\n",
                "        }\n",
                "        return results\n",
                "    \n",
                "pc = PoseCheck()\n",
                "pc.load_protein_from_pdb(EXAMPLE_PDB_PATH)\n",
                "pc.load_ligands_from_sdf(EXAMPLE_LIGAND_PATH)\n",
                "#mol =  dm.read_sdf(EXAMPLE_LIGAND_PATH)[0]\n",
                "#pc.load_ligand_from_mol(mol)\n",
                "\n",
                "clashes = pc.calculate_clashes()\n",
                "print(f\"Number of clashes: {clashes}\")\n",
                "\n",
                "strain = pc.calculate_strain_energy()\n",
                "print(f\"Strain energy: {strain}\")\n",
                "\n",
                "interactions = pc.calculate_interactions()\n",
                "print(f'No. of interactions: {interactions}')"
            ]
        },
        {
            "cell_type": "code",
            "execution_count": 5,
            "metadata": {},
            "outputs": [],
            "source": [
                "from prolif.molecule import Molecule\n",
                "from posecheck.utils.loading import load_sdf_prolif, load_mol_and_add_hs"
            ]
        },
        {
            "cell_type": "code",
            "execution_count": 8,
            "metadata": {},
            "outputs": [],
            "source": [
                "mol = dm.read_sdf(EXAMPLE_LIGAND_PATH)"
            ]
        },
        {
            "cell_type": "code",
            "execution_count": 11,
            "metadata": {},
            "outputs": [],
            "source": [
                "import prolif as plf"
            ]
        },
        {
            "cell_type": "code",
            "execution_count": 15,
            "metadata": {},
            "outputs": [],
            "source": [
                "prot = load_protein_from_pdb(EXAMPLE_PDB_PATH, reduce_path=\"reduce\")"
            ]
        },
        {
            "cell_type": "code",
            "execution_count": 21,
            "metadata": {},
            "outputs": [
                {
                    "name": "stderr",
                    "output_type": "stream",
                    "text": [
                        "100%|██████████| 1/1 [00:00<00:00, 12.59it/s]\n"
                    ]
                },
                {
                    "data": {
                        "text/plain": [
                            "<prolif.fingerprint.Fingerprint: 9 interactions: ['Hydrophobic', 'HBDonor', 'HBAcceptor', 'Cationic', 'Anionic', 'PiCation', 'CationPi', 'PiStacking', 'VdWContact'] at 0x2ac183f72610>"
                        ]
                    },
                    "execution_count": 21,
                    "metadata": {},
                    "output_type": "execute_result"
                }
            ],
            "source": [
                "fp = plf.Fingerprint()\n",
                "fp.run_from_iterable([mol], prot)"
            ]
        },
        {
            "cell_type": "code",
            "execution_count": 19,
            "metadata": {},
            "outputs": [
                {
                    "data": {
                        "image/png": "[encoded data removed]",
                        "text/html": [
                            "<table><tr><td colspan=\"2\" style=\"text-align: center;\"><image src=\"data:image/png;base64,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\"></td></tr>\n",
                            "<tr><th style=\"text-align: right\">COMPND</th><td style=\"text-align: left\">    UNNAMED</td></tr>\n",
                            "<tr><th style=\"text-align: right\">AUTHOR</th><td style=\"text-align: left\">    GENERATED BY OPEN BABEL 2.4.90</td></tr>\n",
                            "<tr><th style=\"text-align: right\">MASTER</th><td style=\"text-align: left\">        0    0    0    0    0    0    0    0   10    0   10    0</td></tr></table>"
                        ],
                        "text/plain": [
                            "<prolif.molecule.Molecule with 1 residues and 10 atoms at 0x2ac183e48770>"
                        ]
                    },
                    "execution_count": 19,
                    "metadata": {},
                    "output_type": "execute_result"
                }
            ],
            "source": [
                "mol"
            ]
        },
        {
            "cell_type": "code",
            "execution_count": 18,
            "metadata": {},
            "outputs": [],
            "source": [
                "mol = Molecule.from_rdkit(mol[0])"
            ]
        },
        {
            "cell_type": "code",
            "execution_count": 22,
            "metadata": {},
            "outputs": [
                {
                    "data": {
                        "text/plain": [
                            "<prolif.molecule.sdf_supplier at 0x2b972b5f0410>"
                        ]
                    },
                    "execution_count": 22,
                    "metadata": {},
                    "output_type": "execute_result"
                }
            ],
            "source": [
                "pc.ligand"
            ]
        },
        {
            "cell_type": "code",
            "execution_count": 19,
            "metadata": {},
            "outputs": [
                {
                    "name": "stderr",
                    "output_type": "stream",
                    "text": [
                        "100%|██████████| 1/1 [00:00<00:00, 18.42it/s]\n"
                    ]
                },
                {
                    "data": {
                        "text/plain": [
                            "{'clashes': 2,\n",
                            " 'strain': 19.110000000000007,\n",
                            " 'interactions': ligand             UNL1                                               \\\n",
                            " protein         ARG48.A              HIS175.A    THR180.A   SER185.A   \n",
                            " interaction Hydrophobic VdWContact VdWContact Hydrophobic HBAcceptor   \n",
                            " Frame                                                                  \n",
                            " 0                  True       True       True        True       True   \n",
                            " \n",
                            " ligand                                                     \n",
                            " protein                   TRP191.A    LEU232.A             \n",
                            " interaction VdWContact Hydrophobic Hydrophobic VdWContact  \n",
                            " Frame                                                      \n",
                            " 0                 True        True        True       True  }"
                        ]
                    },
                    "execution_count": 19,
                    "metadata": {},
                    "output_type": "execute_result"
                }
            ],
            "source": [
                "pc.run()"
            ]
        }
    ],
    "metadata": {
        "kernelspec": {
            "display_name": "Python 3",
            "language": "python",
            "name": "python3"
        },
        "language_info": {
            "codemirror_mode": {
                "name": "ipython",
                "version": 3
            },
            "file_extension": ".py",
            "mimetype": "text/x-python",
            "name": "python",
            "nbconvert_exporter": "python",
            "pygments_lexer": "ipython3",
            "version": "3.11.4"
        },
        "orig_nbformat": 4
    },
    "nbformat": 4,
    "nbformat_minor": 2
}
