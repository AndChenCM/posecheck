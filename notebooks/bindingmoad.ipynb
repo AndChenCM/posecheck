{
    "cells": [
        {
            "cell_type": "code",
            "execution_count": 1,
            "metadata": {},
            "outputs": [],
            "source": [
                "from src.data.datasets import *\n",
                "from glob import glob\n",
                "import datamol as dm"
            ]
        },
        {
            "cell_type": "code",
            "execution_count": 2,
            "metadata": {},
            "outputs": [
                {
                    "name": "stdout",
                    "output_type": "stream",
                    "text": [
                        "Removing tmp files...\n"
                    ]
                }
            ],
            "source": [
                "class BindingMOADTestSet(BasePosesDataset):\n",
                "    def __init__(\n",
                "        self, data_dir=\"/Users/charlie/projects/poses_benchmark/data/bindingmoad_test/\"\n",
                "    ):\n",
                "        super(BindingMOADTestSet, self).__init__()\n",
                "        self.data_dir = data_dir\n",
                "\n",
                "        tmp_files = glob(self.data_dir + \"*tmp*\")\n",
                "\n",
                "        print(\"Removing tmp files...\")\n",
                "        for tmp_file in tmp_files:\n",
                "            os.remove(tmp_file)\n",
                "\n",
                "        sdf_files = glob(self.data_dir + \"*.sdf\")\n",
                "\n",
                "        # remove broken files\n",
                "        self.sdf_files = []\n",
                "        for sdf_file in sdf_files:\n",
                "            try:\n",
                "                Chem.SDMolSupplier(sdf_file)\n",
                "                self.sdf_files.append(sdf_file)\n",
                "            except:\n",
                "                print(f\"Failed to read sdf file: {sdf_file}\")\n",
                "\n",
                "        self.pdb_files = [\n",
                "            data_dir + path.split(\"/\")[-1][:9] + \".pdb\" for path in self.sdf_files\n",
                "        ]\n",
                "\n",
                "    def __len__(self):\n",
                "        return len(self.sdf_files)\n",
                "\n",
                "    def prepare_sdf(self, name: str, idx: int = 0):\n",
                "        return load_mols_from_sdf(self.sdf_files[idx])\n",
                "\n",
                "    def load_mols(self, idx: int = 0):\n",
                "        return dm.read_sdf(self.sdf_files[idx])\n",
                "\n",
                "    def prepare_pdb(self, name: str, idx: int = 0):\n",
                "        return load_protein_from_pdb(self.pdb_files[idx])\n",
                "\n",
                "\n",
                "dataset = BindingMOADTestSet()"
            ]
        },
        {
            "cell_type": "code",
            "execution_count": 3,
            "metadata": {},
            "outputs": [
                {
                    "data": {
                        "text/plain": [
                            "130"
                        ]
                    },
                    "execution_count": 3,
                    "metadata": {},
                    "output_type": "execute_result"
                }
            ],
            "source": [
                "len(dataset)"
            ]
        },
        {
            "cell_type": "code",
            "execution_count": 4,
            "metadata": {},
            "outputs": [
                {
                    "name": "stderr",
                    "output_type": "stream",
                    "text": [
                        "  0%|          | 0/130 [00:00<?, ?it/s]ERROR CTab(/usr/local/reduce_wwPDB_het_dict.txt): could not open\n",
                        "*WARNING*: Residues LYS 86  and LYS 92  in chain  A appear unbonded \n",
                        "            and will be treated as a chain break\n",
                        "*WARNING*: Residues LYS 86  and LYS 92  in chain  A appear unbonded \n",
                        "            and will be treated as a chain break\n",
                        "*WARNING*: Residues THR 124  and THR 127  in chain  A appear unbonded \n",
                        "            and will be treated as a chain break\n",
                        "*WARNING*: Residues THR 124  and THR 127  in chain  A appear unbonded \n",
                        "            and will be treated as a chain break\n",
                        "*WARNING*: Res \" CA\" not in HETATM Connection Database. Hydrogens not added.\n",
                        "*WARNING*: Res \" CA\" not in HETATM Connection Database. Hydrogens not added.\n",
                        "*WARNING*: Res \" CA\" not in HETATM Connection Database. Hydrogens not added.\n",
                        "/Users/charlie/opt/anaconda3/envs/poses/lib/python3.11/site-packages/MDAnalysis/converters/RDKit.py:451: UserWarning: No `bonds` attribute in this AtomGroup. Guessing bonds based on atoms coordinates\n",
                        "  warnings.warn(\n",
                        "[12:42:10] Explicit valence for atom # 28 N, 4, is greater than permitted\n",
                        "/Users/charlie/opt/anaconda3/envs/poses/lib/python3.11/site-packages/MDAnalysis/converters/RDKit.py:479: UserWarning: Could not sanitize molecule: failed during step rdkit.Chem.rdmolops.SanitizeFlags.SANITIZE_PROPERTIES\n",
                        "  warnings.warn(\"Could not sanitize molecule: \"\n",
                        " 45%|████▍     | 58/130 [00:02<00:02, 34.97it/s][12:42:11] Can't kekulize mol.  Unkekulized atoms: 1 2 3 4 5 6 7 8 9\n",
                        "[12:42:11] ERROR: Could not sanitize molecule ending on line 56\n",
                        "[12:42:11] ERROR: Can't kekulize mol.  Unkekulized atoms: 1 2 3 4 5 6 7 8 9\n",
                        " 69%|██████▉   | 90/130 [00:02<00:00, 60.72it/s][12:42:11] Can't kekulize mol.  Unkekulized atoms: 1 2 3 4 5 6 7 8 9\n",
                        "[12:42:11] ERROR: Could not sanitize molecule ending on line 56\n",
                        "[12:42:11] ERROR: Can't kekulize mol.  Unkekulized atoms: 1 2 3 4 5 6 7 8 9\n",
                        " 77%|███████▋  | 100/130 [00:02<00:00, 34.42it/s]\n"
                    ]
                }
            ],
            "source": [
                "for data in tqdm(dataset):\n",
                "    data"
            ]
        },
        {
            "cell_type": "code",
            "execution_count": 5,
            "metadata": {},
            "outputs": [
                {
                    "data": {
                        "text/plain": [
                            "<rdkit.Chem.rdmolfiles.SDMolSupplier at 0x17d11a980>"
                        ]
                    },
                    "execution_count": 5,
                    "metadata": {},
                    "output_type": "execute_result"
                }
            ],
            "source": [
                "Chem.SDMolSupplier(\n",
                "    \"/Users/charlie/projects/poses_benchmark/data/bindingmoad_test/3K3B-bio2_L31:B:372.sdf\"\n",
                ")"
            ]
        },
        {
            "cell_type": "code",
            "execution_count": 6,
            "metadata": {},
            "outputs": [
                {
                    "name": "stderr",
                    "output_type": "stream",
                    "text": [
                        "[12:42:11] Can't kekulize mol.  Unkekulized atoms: 1 2 3 4 5 6 7 8 9\n",
                        "[12:42:11] ERROR: Could not sanitize molecule ending on line 56\n",
                        "[12:42:11] ERROR: Can't kekulize mol.  Unkekulized atoms: 1 2 3 4 5 6 7 8 9\n"
                    ]
                },
                {
                    "data": {
                        "text/plain": [
                            "[]"
                        ]
                    },
                    "execution_count": 6,
                    "metadata": {},
                    "output_type": "execute_result"
                }
            ],
            "source": [
                "dm.read_sdf(\n",
                "    \"/Users/charlie/projects/poses_benchmark/data/bindingmoad_test/3K3B-bio2_L31:B:372.sdf\"\n",
                ")"
            ]
        },
        {
            "cell_type": "code",
            "execution_count": 12,
            "metadata": {},
            "outputs": [
                {
                    "name": "stderr",
                    "output_type": "stream",
                    "text": [
                        "[12:33:19] Can't kekulize mol.  Unkekulized atoms: 1 2 3 4 5 6 7 8 9\n"
                    ]
                }
            ],
            "source": [
                "# read sdf with rdkit\n",
                "from rdkit import Chem\n",
                "from rdkit.Chem import AllChem\n",
                "\n",
                "m = Chem.MolFromMolFile(\n",
                "    \"/Users/charlie/projects/poses_benchmark/data/bindingmoad_test/3K3B-bio2_L31:B:372.sdf\"\n",
                ")\n",
                "m"
            ]
        },
        {
            "cell_type": "code",
            "execution_count": 11,
            "metadata": {},
            "outputs": [
                {
                    "data": {
                        "text/plain": [
                            "(<prolif.molecule.Molecule with 269 residues and 2418 atoms at 0x1795cb740>,\n",
                            " <prolif.molecule.sdf_supplier at 0x17928b110>)"
                        ]
                    },
                    "execution_count": 11,
                    "metadata": {},
                    "output_type": "execute_result"
                }
            ],
            "source": [
                "dataset[0]"
            ]
        },
        {
            "cell_type": "code",
            "execution_count": null,
            "metadata": {},
            "outputs": [
                {
                    "name": "stdout",
                    "output_type": "stream",
                    "text": [
                        "Calculating interactions...\n"
                    ]
                },
                {
                    "name": "stderr",
                    "output_type": "stream",
                    "text": [
                        "BindingMOADTestSet:   1%|          | 1/130 [00:04<08:46,  4.08s/it]"
                    ]
                },
                {
                    "name": "stdout",
                    "output_type": "stream",
                    "text": [
                        "Error with 0\n"
                    ]
                },
                {
                    "name": "stderr",
                    "output_type": "stream",
                    "text": [
                        "Traceback (most recent call last):\n",
                        "  File \"<string>\", line 1, in <module>\n",
                        "  File \"/Users/charlie/opt/anaconda3/envs/poses/lib/python3.11/multiprocessing/spawn.py\", line 120, in spawn_main\n",
                        "    exitcode = _main(fd, parent_sentinel)\n",
                        "               ^^^^^^^^^^^^^^^^^^^^^^^^^^\n",
                        "  File \"/Users/charlie/opt/anaconda3/envs/poses/lib/python3.11/multiprocessing/spawn.py\", line 130, in _main\n",
                        "    self = reduction.pickle.load(from_parent)\n",
                        "           ^^^^^^^^^^^^^^^^^^^^^^^^^^^^^^^^^^\n",
                        "_pickle.UnpicklingError: pickle data was truncated\n"
                    ]
                },
                {
                    "data": {
                        "application/vnd.jupyter.widget-view+json": {
                            "model_id": "b750cbd73aa74b74946b0ddaa0db9c82",
                            "version_major": 2,
                            "version_minor": 0
                        },
                        "text/plain": [
                            "  0%|          | 0/1 [00:00<?, ?it/s]"
                        ]
                    },
                    "metadata": {},
                    "output_type": "display_data"
                },
                {
                    "name": "stderr",
                    "output_type": "stream",
                    "text": [
                        "/Users/charlie/opt/anaconda3/envs/poses/lib/python3.11/site-packages/prolif/utils.py:284: UserWarning: No interaction detected\n",
                        "  warnings.warn(\"No interaction detected\")\n",
                        "BindingMOADTestSet:   2%|▏         | 2/130 [00:14<16:25,  7.70s/it]"
                    ]
                }
            ],
            "source": [
                "interactions = dataset.all_interactions"
            ]
        },
        {
            "cell_type": "code",
            "execution_count": 16,
            "metadata": {},
            "outputs": [
                {
                    "name": "stdout",
                    "output_type": "stream",
                    "text": [
                        "Calculating interactions...\n"
                    ]
                },
                {
                    "name": "stderr",
                    "output_type": "stream",
                    "text": [
                        "BindingMOADTestSet:   1%|          | 1/130 [00:08<18:19,  8.53s/it]"
                    ]
                },
                {
                    "name": "stdout",
                    "output_type": "stream",
                    "text": [
                        "Error with 0\n"
                    ]
                },
                {
                    "name": "stderr",
                    "output_type": "stream",
                    "text": [
                        "Traceback (most recent call last):\n",
                        "  File \"<string>\", line 1, in <module>\n",
                        "  File \"/Users/charlie/opt/anaconda3/envs/poses/lib/python3.11/multiprocessing/spawn.py\", line 120, in spawn_main\n",
                        "    exitcode = _main(fd, parent_sentinel)\n",
                        "               ^^^^^^^^^^^^^^^^^^^^^^^^^^\n",
                        "  File \"/Users/charlie/opt/anaconda3/envs/poses/lib/python3.11/multiprocessing/spawn.py\", line 130, in _main\n",
                        "    self = reduction.pickle.load(from_parent)\n",
                        "           ^^^^^^^^^^^^^^^^^^^^^^^^^^^^^^^^^^\n",
                        "_pickle.UnpicklingError: pickle data was truncated\n"
                    ]
                }
            ],
            "source": [
                "dataset.all_interactions"
            ]
        },
        {
            "cell_type": "code",
            "execution_count": 7,
            "metadata": {},
            "outputs": [
                {
                    "name": "stdout",
                    "output_type": "stream",
                    "text": [
                        "Calculating clashes...\n"
                    ]
                },
                {
                    "name": "stderr",
                    "output_type": "stream",
                    "text": [
                        "BindingMOADTestSet:  66%|██████▌   | 86/130 [00:26<00:13,  3.19it/s][12:42:42] Can't kekulize mol.  Unkekulized atoms: 1 2 3 4 5 6 7 8 9\n",
                        "[12:42:42] ERROR: Could not sanitize molecule ending on line 56\n",
                        "[12:42:42] ERROR: Can't kekulize mol.  Unkekulized atoms: 1 2 3 4 5 6 7 8 9\n",
                        "BindingMOADTestSet:  72%|███████▏  | 93/130 [00:28<00:11,  3.17it/s][12:42:44] Can't kekulize mol.  Unkekulized atoms: 1 2 3 4 5 6 7 8 9\n",
                        "[12:42:44] ERROR: Could not sanitize molecule ending on line 56\n",
                        "[12:42:44] ERROR: Can't kekulize mol.  Unkekulized atoms: 1 2 3 4 5 6 7 8 9\n",
                        "BindingMOADTestSet:  77%|███████▋  | 100/130 [00:30<00:08,  3.68it/s]/Users/charlie/projects/poses_benchmark/src/data/datasets.py:338: SyntaxWarning: 'int' object is not callable; perhaps you missed a comma?\n",
                        "  return 1(sdf_path)\n",
                        "/Users/charlie/projects/poses_benchmark/src/data/datasets.py:552: SyntaxWarning: \"is not\" with a literal. Did you mean \"!=\"?\n",
                        "  if self.name is not \"crossdocked_test\":\n",
                        "/Users/charlie/projects/poses_benchmark/src/data/datasets.py:558: SyntaxWarning: \"is not\" with a literal. Did you mean \"!=\"?\n",
                        "  if self.name is not \"crossdocked_test\":\n",
                        "/Users/charlie/projects/poses_benchmark/src/data/datasets.py:338: SyntaxWarning: 'int' object is not callable; perhaps you missed a comma?\n",
                        "  return 1(sdf_path)\n",
                        "/Users/charlie/projects/poses_benchmark/src/data/datasets.py:552: SyntaxWarning: \"is not\" with a literal. Did you mean \"!=\"?\n",
                        "  if self.name is not \"crossdocked_test\":\n",
                        "/Users/charlie/projects/poses_benchmark/src/data/datasets.py:558: SyntaxWarning: \"is not\" with a literal. Did you mean \"!=\"?\n",
                        "  if self.name is not \"crossdocked_test\":\n",
                        "/Users/charlie/projects/poses_benchmark/src/data/datasets.py:338: SyntaxWarning: 'int' object is not callable; perhaps you missed a comma?\n",
                        "  return 1(sdf_path)\n",
                        "/Users/charlie/projects/poses_benchmark/src/data/datasets.py:552: SyntaxWarning: \"is not\" with a literal. Did you mean \"!=\"?\n",
                        "  if self.name is not \"crossdocked_test\":\n",
                        "/Users/charlie/projects/poses_benchmark/src/data/datasets.py:558: SyntaxWarning: \"is not\" with a literal. Did you mean \"!=\"?\n",
                        "  if self.name is not \"crossdocked_test\":\n",
                        "/Users/charlie/projects/poses_benchmark/src/data/datasets.py:338: SyntaxWarning: 'int' object is not callable; perhaps you missed a comma?\n",
                        "  return 1(sdf_path)\n",
                        "/Users/charlie/projects/poses_benchmark/src/data/datasets.py:552: SyntaxWarning: \"is not\" with a literal. Did you mean \"!=\"?\n",
                        "  if self.name is not \"crossdocked_test\":\n",
                        "/Users/charlie/projects/poses_benchmark/src/data/datasets.py:558: SyntaxWarning: \"is not\" with a literal. Did you mean \"!=\"?\n",
                        "  if self.name is not \"crossdocked_test\":\n"
                    ]
                },
                {
                    "ename": "IndexError",
                    "evalue": "list index out of range",
                    "output_type": "error",
                    "traceback": [
                        "\u001b[0;31m---------------------------------------------------------------------------\u001b[0m",
                        "\u001b[0;31mIndexError\u001b[0m                                Traceback (most recent call last)",
                        "Cell \u001b[0;32mIn[7], line 1\u001b[0m\n\u001b[0;32m----> 1\u001b[0m clashes \u001b[39m=\u001b[39m dataset\u001b[39m.\u001b[39mall_clashes\n",
                        "File \u001b[0;32m~/projects/poses_benchmark/src/data/datasets.py:259\u001b[0m, in \u001b[0;36mBasePosesDataset.all_clashes\u001b[0;34m(self)\u001b[0m\n\u001b[1;32m    257\u001b[0m \u001b[39mprint\u001b[39m(\u001b[39m\"\u001b[39m\u001b[39mCalculating clashes...\u001b[39m\u001b[39m\"\u001b[39m)\n\u001b[1;32m    258\u001b[0m dataset_name \u001b[39m=\u001b[39m \u001b[39mself\u001b[39m\u001b[39m.\u001b[39m\u001b[39m__repr__\u001b[39m()\n\u001b[0;32m--> 259\u001b[0m clashes \u001b[39m=\u001b[39m [\n\u001b[1;32m    260\u001b[0m     count_clashes_list(\u001b[39m*\u001b[39m\u001b[39mself\u001b[39m\u001b[39m.\u001b[39m\u001b[39m__getitem__\u001b[39m(idx), target\u001b[39m=\u001b[39m\u001b[39mself\u001b[39m\u001b[39m.\u001b[39mnames[idx][:\u001b[39m4\u001b[39m])\n\u001b[1;32m    261\u001b[0m     \u001b[39mfor\u001b[39;00m idx \u001b[39min\u001b[39;00m tqdm(\u001b[39mrange\u001b[39m(\u001b[39mlen\u001b[39m(\u001b[39mself\u001b[39m)), desc\u001b[39m=\u001b[39mdataset_name)\n\u001b[1;32m    262\u001b[0m ]\n\u001b[1;32m    263\u001b[0m \u001b[39m# clashes = torch.stack(torch.tensor(clashes))\u001b[39;00m\n\u001b[1;32m    264\u001b[0m torch\u001b[39m.\u001b[39msave(clashes, clashes_path)\n",
                        "File \u001b[0;32m~/projects/poses_benchmark/src/data/datasets.py:260\u001b[0m, in \u001b[0;36m<listcomp>\u001b[0;34m(.0)\u001b[0m\n\u001b[1;32m    257\u001b[0m \u001b[39mprint\u001b[39m(\u001b[39m\"\u001b[39m\u001b[39mCalculating clashes...\u001b[39m\u001b[39m\"\u001b[39m)\n\u001b[1;32m    258\u001b[0m dataset_name \u001b[39m=\u001b[39m \u001b[39mself\u001b[39m\u001b[39m.\u001b[39m\u001b[39m__repr__\u001b[39m()\n\u001b[1;32m    259\u001b[0m clashes \u001b[39m=\u001b[39m [\n\u001b[0;32m--> 260\u001b[0m     count_clashes_list(\u001b[39m*\u001b[39m\u001b[39mself\u001b[39m\u001b[39m.\u001b[39m\u001b[39m__getitem__\u001b[39m(idx), target\u001b[39m=\u001b[39m\u001b[39mself\u001b[39m\u001b[39m.\u001b[39mnames[idx][:\u001b[39m4\u001b[39m])\n\u001b[1;32m    261\u001b[0m     \u001b[39mfor\u001b[39;00m idx \u001b[39min\u001b[39;00m tqdm(\u001b[39mrange\u001b[39m(\u001b[39mlen\u001b[39m(\u001b[39mself\u001b[39m)), desc\u001b[39m=\u001b[39mdataset_name)\n\u001b[1;32m    262\u001b[0m ]\n\u001b[1;32m    263\u001b[0m \u001b[39m# clashes = torch.stack(torch.tensor(clashes))\u001b[39;00m\n\u001b[1;32m    264\u001b[0m torch\u001b[39m.\u001b[39msave(clashes, clashes_path)\n",
                        "File \u001b[0;32m~/projects/poses_benchmark/src/data/datasets.py:193\u001b[0m, in \u001b[0;36mBasePosesDataset.__getitem__\u001b[0;34m(self, idx)\u001b[0m\n\u001b[1;32m    183\u001b[0m \u001b[39m\"\"\"Returns a tuple of protein and ligand structures.\u001b[39;00m\n\u001b[1;32m    184\u001b[0m \n\u001b[1;32m    185\u001b[0m \u001b[39mArgs:\u001b[39;00m\n\u001b[0;32m   (...)\u001b[0m\n\u001b[1;32m    189\u001b[0m \u001b[39m    Tuple[pd.AtomGroup, pybel.Molecule]: The protein and ligand structures.\u001b[39;00m\n\u001b[1;32m    190\u001b[0m \u001b[39m\"\"\"\u001b[39;00m\n\u001b[1;32m    192\u001b[0m \u001b[39m# Select pocket\u001b[39;00m\n\u001b[0;32m--> 193\u001b[0m name \u001b[39m=\u001b[39m \u001b[39mself\u001b[39m\u001b[39m.\u001b[39mnames[idx]\n\u001b[1;32m    195\u001b[0m \u001b[39m# Load protein and ligand\u001b[39;00m\n\u001b[1;32m    196\u001b[0m prot \u001b[39m=\u001b[39m \u001b[39mself\u001b[39m\u001b[39m.\u001b[39mprepare_pdb(name)\n",
                        "\u001b[0;31mIndexError\u001b[0m: list index out of range"
                    ]
                }
            ],
            "source": [
                "clashes = dataset.all_clashes"
            ]
        },
        {
            "cell_type": "code",
            "execution_count": null,
            "metadata": {},
            "outputs": [],
            "source": [
                "df = pd.DataFrame(clashes)\n",
                "df"
            ]
        },
        {
            "cell_type": "code",
            "execution_count": 4,
            "metadata": {},
            "outputs": [
                {
                    "name": "stderr",
                    "output_type": "stream",
                    "text": [
                        " 43%|████▎     | 56/130 [00:00<00:00, 557.27it/s][18:38:30] Can't kekulize mol.  Unkekulized atoms: 1 2 3 4 5 6 7 8 9\n",
                        "[18:38:30] ERROR: Could not sanitize molecule ending on line 56\n",
                        "[18:38:30] ERROR: Can't kekulize mol.  Unkekulized atoms: 1 2 3 4 5 6 7 8 9\n",
                        "[18:38:30] Can't kekulize mol.  Unkekulized atoms: 1 2 3 4 5 6 7 8 9\n",
                        "[18:38:30] ERROR: Could not sanitize molecule ending on line 56\n",
                        "[18:38:30] ERROR: Can't kekulize mol.  Unkekulized atoms: 1 2 3 4 5 6 7 8 9\n",
                        "[18:38:30] Can't kekulize mol.  Unkekulized atoms: 1 2 3 4 5 6 7 8 9\n",
                        "[18:38:30] ERROR: Could not sanitize molecule ending on line 51\n",
                        "[18:38:30] ERROR: Can't kekulize mol.  Unkekulized atoms: 1 2 3 4 5 6 7 8 9\n",
                        "100%|██████████| 130/130 [00:00<00:00, 573.72it/s]\n",
                        "100%|██████████| 127/127 [00:13<00:00,  9.17it/s]\n"
                    ]
                }
            ],
            "source": [
                "energies = dataset.all_strain_energy"
            ]
        },
        {
            "cell_type": "code",
            "execution_count": 12,
            "metadata": {},
            "outputs": [
                {
                    "data": {
                        "text/plain": [
                            "(10.0, 10000.0)"
                        ]
                    },
                    "execution_count": 12,
                    "metadata": {},
                    "output_type": "execute_result"
                },
                {
                    "data": {
                        "image/png": "[encoded data removed]",
                        "text/plain": [
                            "<Figure size 640x480 with 1 Axes>"
                        ]
                    },
                    "metadata": {},
                    "output_type": "display_data"
                }
            ],
            "source": [
                "# plot cumulative distribution of energies\n",
                "\n",
                "import matplotlib.pyplot as plt\n",
                "import numpy as np\n",
                "\n",
                "plt.hist(energies, bins=10000, cumulative=True, density=True, histtype=\"step\")\n",
                "plt.xlabel(\"Strain Energy (kcal/mol)\")\n",
                "plt.xscale(\"log\")\n",
                "plt.xlim(1e1, 1e4)"
            ]
        },
        {
            "cell_type": "code",
            "execution_count": 22,
            "metadata": {},
            "outputs": [],
            "source": [
                "mol = dataset.load_mols(0)"
            ]
        },
        {
            "cell_type": "code",
            "execution_count": 23,
            "metadata": {},
            "outputs": [],
            "source": [
                "mols = [dataset.load_mols(i) for i in range(len(dataset))]"
            ]
        },
        {
            "cell_type": "code",
            "execution_count": 30,
            "metadata": {},
            "outputs": [
                {
                    "data": {
                        "image/png": "[encoded data removed]",
                        "text/plain": [
                            "<rdkit.Chem.rdchem.Mol at 0x17d846b20>"
                        ]
                    },
                    "execution_count": 30,
                    "metadata": {},
                    "output_type": "execute_result"
                }
            ],
            "source": [
                "mols[10][0]"
            ]
        }
    ],
    "metadata": {
        "kernelspec": {
            "display_name": "poses",
            "language": "python",
            "name": "python3"
        },
        "language_info": {
            "codemirror_mode": {
                "name": "ipython",
                "version": 3
            },
            "file_extension": ".py",
            "mimetype": "text/x-python",
            "name": "python",
            "nbconvert_exporter": "python",
            "pygments_lexer": "ipython3",
            "version": "3.11.1"
        },
        "orig_nbformat": 4
    },
    "nbformat": 4,
    "nbformat_minor": 2
}