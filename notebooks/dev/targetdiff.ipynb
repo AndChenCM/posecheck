{
 "cells": [
  {
   "attachments": {},
   "cell_type": "markdown",
   "metadata": {},
   "source": [
    "#### Imports"
   ]
  },
  {
   "cell_type": "code",
   "execution_count": 1,
   "metadata": {},
   "outputs": [],
   "source": [
    "import rdkit\n",
    "import rdkit.Chem as Chem\n",
    "from rdkit.Chem import rdMolTransforms as rmt\n",
    "from copy import deepcopy\n",
    "import matplotlib.pyplot as plt\n",
    "import seaborn as sns\n",
    "import datamol as dm\n",
    "\n",
    "from src.data.datasets import *\n",
    "from rdkit.Chem import rdMolTransforms as rmt\n",
    "from rdkit.Chem import rdMolDescriptors"
   ]
  },
  {
   "attachments": {},
   "cell_type": "markdown",
   "metadata": {},
   "source": [
    "## Main"
   ]
  },
  {
   "cell_type": "code",
   "execution_count": 37,
   "metadata": {},
   "outputs": [],
   "source": [
    "targetdiff = get_dataset(\"targetdiff\")"
   ]
  },
  {
   "cell_type": "code",
   "execution_count": 43,
   "metadata": {},
   "outputs": [],
   "source": [
    "class DockedMolsDataset(TargetDiffSamples):\n",
    "    def __init__(self, name, *args, **kwargs):\n",
    "        super().__init__(*args, **kwargs)\n",
    "        self.name = name\n",
    "        self.data = torch.load(os.path.join(self.ligand_dir, f\"{name}_vina_docked.pt\"))\n",
    "\n",
    "    def __repr__(self) -> str:\n",
    "        return f\"{self.name}_docked\""
   ]
  },
  {
   "cell_type": "code",
   "execution_count": 44,
   "metadata": {},
   "outputs": [],
   "source": [
    "ar_docked = DockedMolsDataset(\"ar\")"
   ]
  },
  {
   "cell_type": "code",
   "execution_count": 55,
   "metadata": {},
   "outputs": [],
   "source": [
    "mols = [ar_docked.data[0][i][\"mol\"] for i in range(99)]"
   ]
  },
  {
   "cell_type": "code",
   "execution_count": 57,
   "metadata": {},
   "outputs": [],
   "source": [
    "dm.to_sdf(mols, \"ar_docked.sdf\")"
   ]
  },
  {
   "cell_type": "code",
   "execution_count": 51,
   "metadata": {},
   "outputs": [
    {
     "data": {
      "text/plain": [
       "{'affinity': -3.529,\n",
       " 'pose': 'MODEL 1\\nREMARK VINA RESULT:    -3.529      0.000      0.000\\nREMARK INTER + INTRA:          -3.942\\nREMARK INTER:                  -3.942\\nREMARK INTRA:                   0.000\\nREMARK UNBOUND:                 0.000\\nREMARK Flexibility Score: inf\\nREMARK Active torsions [ 4 ] -> [ 4 ]\\nROOT\\nATOM      1  S1  LIG L   1      25.202  33.923 107.198  1.00  0.00     0.036 SA\\nENDROOT\\nBRANCH    1    2\\nATOM      2  O1  LIG L   1      25.595  35.012 106.309  1.00  0.00    -0.254 OA\\nATOM      3  H1  LIG L   1      25.557  35.870 106.802  1.00  0.00     0.245 HD\\nENDBRANCH    1    2\\nBRANCH    1    4\\nATOM      4  O2  LIG L   1      24.831  32.716 106.692  1.00  0.00    -0.254 OA\\nATOM      5  H2  LIG L   1      24.130  32.319 107.267  1.00  0.00     0.245 HD\\nENDBRANCH    1    4\\nBRANCH    1    6\\nATOM      6  O3  LIG L   1      24.822  34.435 108.511  1.00  0.00    -0.254 OA\\nATOM      7  H3  LIG L   1      23.901  34.795 108.470  1.00  0.00     0.245 HD\\nENDBRANCH    1    6\\nBRANCH    1    8\\nATOM      8  O4  LIG L   1      26.489  33.335 107.655  1.00  0.00    -0.254 OA\\nATOM      9  H4  LIG L   1      26.418  33.088 108.610  1.00  0.00     0.245 HD\\nENDBRANCH    1    8\\nTORSDOF 4\\nENDMDL\\n'}"
      ]
     },
     "execution_count": 51,
     "metadata": {},
     "output_type": "execute_result"
    }
   ],
   "source": [
    "ar_docked.data[0][0][\"vina\"][\"dock\"][0]"
   ]
  },
  {
   "cell_type": "code",
   "execution_count": 10,
   "metadata": {},
   "outputs": [],
   "source": [
    "data = targetdiff.data\n",
    "sample = data[0][0]"
   ]
  },
  {
   "cell_type": "code",
   "execution_count": 58,
   "metadata": {},
   "outputs": [
    {
     "data": {
      "text/plain": [
       "{'mol': <rdkit.Chem.rdchem.Mol at 0x112547650>,\n",
       " 'smiles': 'CC(C)C1CC(=C=CC=NC=N)C(CC2CC(=O)C3C(CCC(O)(O)C3O)C2)C(CO)NC1=O',\n",
       " 'ligand_filename': 'BSD_ASPTE_1_130_0/2z3h_A_rec_1wn6_bst_lig_tt_docked_3.sdf',\n",
       " 'pred_pos': array([[ 28.64857674,  34.2102356 , 103.89121246],\n",
       "        [ 22.26242256,  33.43259048, 107.04077148],\n",
       "        [ 32.12720108,  33.9423027 , 101.70831299],\n",
       "        [ 25.26725006,  34.27240372, 105.61209869],\n",
       "        [ 23.24348831,  32.85912323, 104.86436462],\n",
       "        [ 29.7340126 ,  35.09168625, 103.92012787],\n",
       "        [ 28.01941681,  36.88599777, 104.40847778],\n",
       "        [ 24.90070724,  35.34159851, 101.42758942],\n",
       "        [ 21.34413528,  31.38601875, 105.78197479],\n",
       "        [ 25.86146164,  34.40193176, 107.82698059],\n",
       "        [ 25.07189178,  34.65364838, 108.94551086],\n",
       "        [ 21.00190163,  30.91161919, 104.3117218 ],\n",
       "        [ 26.43770218,  34.90323257, 105.10548401],\n",
       "        [ 23.45197296,  34.14904785, 107.172966  ],\n",
       "        [ 25.23684692,  34.90486145, 102.56072235],\n",
       "        [ 25.21239662,  36.42338181, 100.83914185],\n",
       "        [ 24.85019875,  34.03287506, 106.90937042],\n",
       "        [ 21.07470703,  33.83969498, 107.46297455],\n",
       "        [ 22.27993011,  30.15244484, 106.12352753],\n",
       "        [ 28.86818695,  32.98558044, 103.12010956],\n",
       "        [ 31.14350891,  34.84894943, 103.8670578 ],\n",
       "        [ 31.96853256,  35.24972534, 104.87184906],\n",
       "        [ 29.344347  ,  36.45523834, 104.04463196],\n",
       "        [ 23.39847946,  36.31658554,  99.68804932],\n",
       "        [ 24.42250061,  36.82730865,  99.82526398],\n",
       "        [ 24.68378639,  34.15195084, 103.40932465],\n",
       "        [ 27.0785923 ,  35.81770706, 104.61087036],\n",
       "        [ 30.29847908,  32.71575546, 102.79611969],\n",
       "        [ 24.33670616,  33.7466011 , 104.63689423],\n",
       "        [ 31.60033417,  33.59806824, 103.10264587],\n",
       "        [ 30.26961517,  37.30500793, 103.81077576],\n",
       "        [ 27.43854713,  34.69253159, 104.37508392],\n",
       "        [ 22.10116196,  32.67943573, 105.75772095],\n",
       "        [ 32.82442093,  33.10329437, 103.75038147]]),\n",
       " 'pred_v': array([2, 1, 5, 2, 1, 2, 2, 2, 1, 1, 5, 1, 2, 3, 2, 4, 1, 5, 1, 1, 1, 5,\n",
       "        2, 4, 2, 2, 2, 1, 2, 1, 5, 2, 1, 5]),\n",
       " 'chem_results': {'qed': 0.1449447350731669,\n",
       "  'sa': 0.46,\n",
       "  'logp': 0.9521699999999995,\n",
       "  'lipinski': 4,\n",
       "  'ring_size': Counter({7: 1, 6: 2})},\n",
       " 'vina': {'score_only': [{'affinity': -7.489, 'pose': None}],\n",
       "  'minimize': [{'affinity': -8.39,\n",
       "    'pose': 'REMARK Flexibility Score: inf\\nREMARK Active torsions [ 10 ] -> [ 10 ]\\nROOT\\nATOM      1  C1  LIG L   1      22.214  33.380 106.899  1.00  0.00     0.217 C \\nATOM      2  C2  LIG L   1      25.247  34.191 105.515  1.00  0.00     0.045 C \\nATOM      3  C3  LIG L   1      23.238  32.764 104.753  1.00  0.00     0.052 C \\nATOM      4  N1  LIG L   1      23.401  34.099 107.041  1.00  0.00    -0.309 N \\nATOM      5  C4  LIG L   1      25.279  34.765 102.452  1.00  0.00     0.071 C \\nATOM      6  C5  LIG L   1      24.804  33.977 106.807  1.00  0.00     0.106 C \\nATOM      7  O1  LIG L   1      21.019  33.796 107.289  1.00  0.00    -0.275 OA\\nATOM      8  C6  LIG L   1      24.709  34.029 103.303  1.00  0.00    -0.119 C \\nATOM      9  C7  LIG L   1      24.337  33.648 104.531  1.00  0.00    -0.022 C \\nATOM     10  C8  LIG L   1      22.078  32.602 105.628  1.00  0.00     0.082 C \\nATOM     11  H1  LIG L   1      23.198  35.022 107.449  1.00  0.00     0.149 HD\\nENDROOT\\nBRANCH    2   12\\nATOM     12  C9  LIG L   1      26.429  34.812 105.019  1.00  0.00     0.014 C \\nBRANCH   12   13\\nATOM     13 C10  LIG L   1      27.088  35.730 104.556  1.00  0.00    -0.003 C \\nATOM     14 C11  LIG L   1      28.648  34.120 103.821  1.00  0.00     0.002 C \\nATOM     15 C12  LIG L   1      29.744  34.987 103.886  1.00  0.00     0.092 C \\nATOM     16 C13  LIG L   1      28.863  32.912 103.024  1.00  0.00     0.009 C \\nATOM     17 C14  LIG L   1      27.437  34.607 104.299  1.00  0.00     0.008 C \\nATOM     18 C15  LIG L   1      31.150  34.727 103.848  1.00  0.00     0.184 C \\nATOM     19 C16  LIG L   1      29.369  36.352 104.038  1.00  0.00     0.140 C \\nATOM     20 C17  LIG L   1      30.296  32.631 102.714  1.00  0.00     0.067 C \\nATOM     21 C18  LIG L   1      31.603  33.489 103.061  1.00  0.00     0.192 C \\nATOM     22 C19  LIG L   1      28.044  36.791 104.394  1.00  0.00     0.078 C \\nATOM     23  O2  LIG L   1      30.309  37.195 103.838  1.00  0.00    -0.297 OA\\nBRANCH   18   24\\nATOM     24  O3  LIG L   1      31.966  35.094 104.874  1.00  0.00    -0.386 OA\\nATOM     25  H2  LIG L   1      31.531  34.874 105.736  1.00  0.00     0.210 HD\\nENDBRANCH   18   24\\nBRANCH   21   26\\nATOM     26  O4  LIG L   1      32.154  33.859 101.682  1.00  0.00    -0.363 OA\\nATOM     27  H3  LIG L   1      32.986  34.387 101.790  1.00  0.00     0.213 HD\\nENDBRANCH   21   26\\nBRANCH   21   28\\nATOM     28  O5  LIG L   1      32.811  32.963 103.713  1.00  0.00    -0.363 OA\\nATOM     29  H4  LIG L   1      32.691  32.984 104.696  1.00  0.00     0.213 HD\\nENDBRANCH   21   28\\nENDBRANCH   12   13\\nENDBRANCH    2   12\\nBRANCH    6   30\\nATOM     30 C20  LIG L   1      25.797  34.364 107.738  1.00  0.00     0.178 C \\nBRANCH   30   31\\nATOM     31  O6  LIG L   1      24.983  34.670 108.825  1.00  0.00    -0.393 OA\\nATOM     32  H5  LIG L   1      25.485  34.524 109.665  1.00  0.00     0.209 HD\\nENDBRANCH   30   31\\nENDBRANCH    6   30\\nBRANCH   10   33\\nATOM     33 C21  LIG L   1      21.320  31.310 105.661  1.00  0.00    -0.005 C \\nATOM     34 C22  LIG L   1      20.990  30.818 104.195  1.00  0.00     0.008 C \\nATOM     35 C23  LIG L   1      22.253  30.079 106.025  1.00  0.00     0.008 C \\nENDBRANCH   10   33\\nBRANCH    5   36\\nATOM     36 C24  LIG L   1      24.966  35.180 101.304  1.00  0.00     0.120 C \\nATOM     37  N2  LIG L   1      25.246  36.273 100.721  1.00  0.00    -0.244 NA\\nBRANCH   37   38\\nATOM     38 C25  LIG L   1      24.478  36.633  99.675  1.00  0.00     0.212 C \\nATOM     39  N3  LIG L   1      23.522  36.027  99.460  1.00  0.00    -0.289 NA\\nATOM     40  H6  LIG L   1      22.917  36.283  98.666  1.00  0.00     0.188 HD\\nENDBRANCH   37   38\\nENDBRANCH    5   36\\nTORSDOF 10\\n'}],\n",
       "  'dock': [{'affinity': -9.047,\n",
       "    'pose': 'MODEL 1\\nREMARK VINA RESULT:    -9.047      0.000      0.000\\nREMARK INTER + INTRA:         -12.659\\nREMARK INTER:                 -13.278\\nREMARK INTRA:                   0.619\\nREMARK UNBOUND:                 0.619\\nREMARK Flexibility Score: inf\\nREMARK Active torsions [ 10 ] -> [ 10 ]\\nROOT\\nATOM      1  C1  LIG L   1      22.160  33.183 106.663  1.00  0.00     0.217 C \\nATOM      2  C2  LIG L   1      25.203  34.094 105.363  1.00  0.00     0.045 C \\nATOM      3  C3  LIG L   1      23.217  32.691 104.501  1.00  0.00     0.052 C \\nATOM      4  N1  LIG L   1      23.339  33.904 106.858  1.00  0.00    -0.309 N \\nATOM      5  C4  LIG L   1      25.267  34.830 102.335  1.00  0.00     0.071 C \\nATOM      6  C5  LIG L   1      24.746  33.808 106.636  1.00  0.00     0.106 C \\nATOM      7  O1  LIG L   1      20.956  33.566 107.059  1.00  0.00    -0.275 OA\\nATOM      8  C6  LIG L   1      24.693  34.044 103.139  1.00  0.00    -0.119 C \\nATOM      9  C7  LIG L   1      24.310  33.595 104.340  1.00  0.00    -0.022 C \\nATOM     10  C8  LIG L   1      22.048  32.472 105.351  1.00  0.00     0.082 C \\nATOM     11  H1  LIG L   1      23.121  34.802 107.312  1.00  0.00     0.149 HD\\nENDROOT\\nBRANCH    2   12\\nATOM     12  C9  LIG L   1      26.384  34.752 104.916  1.00  0.00     0.014 C \\nBRANCH   12   13\\nATOM     13 C10  LIG L   1      27.030  35.683 104.461  1.00  0.00    -0.003 C \\nATOM     14 C11  LIG L   1      28.639  34.107 103.759  1.00  0.00     0.002 C \\nATOM     15 C12  LIG L   1      29.713  34.999 103.840  1.00  0.00     0.092 C \\nATOM     16 C13  LIG L   1      28.896  32.902 102.970  1.00  0.00     0.009 C \\nATOM     17 C14  LIG L   1      27.409  34.567 104.214  1.00  0.00     0.008 C \\nATOM     18 C15  LIG L   1      31.126  34.772 103.827  1.00  0.00     0.184 C \\nATOM     19 C16  LIG L   1      29.304  36.355 103.981  1.00  0.00     0.140 C \\nATOM     20 C17  LIG L   1      30.340  32.653 102.687  1.00  0.00     0.067 C \\nATOM     21 C18  LIG L   1      31.620  33.542 103.053  1.00  0.00     0.192 C \\nATOM     22 C19  LIG L   1      27.964  36.765 104.311  1.00  0.00     0.078 C \\nATOM     23  O2  LIG L   1      30.228  37.220 103.793  1.00  0.00    -0.297 OA\\nBRANCH   18   24\\nATOM     24  O3  LIG L   1      31.915  35.161 104.866  1.00  0.00    -0.386 OA\\nATOM     25  H2  LIG L   1      32.701  35.652 104.517  1.00  0.00     0.210 HD\\nENDBRANCH   18   24\\nBRANCH   21   26\\nATOM     26  O4  LIG L   1      32.187  33.921 101.682  1.00  0.00    -0.363 OA\\nATOM     27  H3  LIG L   1      32.861  33.249 101.407  1.00  0.00     0.213 HD\\nENDBRANCH   21   26\\nBRANCH   21   28\\nATOM     28  O5  LIG L   1      32.829  33.047 103.728  1.00  0.00    -0.363 OA\\nATOM     29  H4  LIG L   1      32.575  32.607 104.578  1.00  0.00     0.213 HD\\nENDBRANCH   21   28\\nENDBRANCH   12   13\\nENDBRANCH    2   12\\nBRANCH    6   30\\nATOM     30 C20  LIG L   1      25.723  34.154 107.599  1.00  0.00     0.178 C \\nBRANCH   30   31\\nATOM     31  O6  LIG L   1      24.888  34.578 108.629  1.00  0.00    -0.393 OA\\nATOM     32  H5  LIG L   1      25.421  35.058 109.310  1.00  0.00     0.209 HD\\nENDBRANCH   30   31\\nENDBRANCH    6   30\\nBRANCH   10   33\\nATOM     33 C21  LIG L   1      21.303  31.173 105.306  1.00  0.00    -0.005 C \\nATOM     34 C22  LIG L   1      21.446  30.495 103.884  1.00  0.00     0.008 C \\nATOM     35 C23  LIG L   1      22.058  30.023 106.096  1.00  0.00     0.008 C \\nENDBRANCH   10   33\\nBRANCH    5   36\\nATOM     36 C24  LIG L   1      24.964  35.302 101.207  1.00  0.00     0.120 C \\nATOM     37  N2  LIG L   1      24.929  36.505 100.802  1.00  0.00    -0.244 NA\\nBRANCH   37   38\\nATOM     38 C25  LIG L   1      24.207  36.767  99.696  1.00  0.00     0.212 C \\nATOM     39  N3  LIG L   1      23.505  35.948  99.290  1.00  0.00    -0.289 NA\\nATOM     40  H6  LIG L   1      22.942  36.124  98.446  1.00  0.00     0.188 HD\\nENDBRANCH   37   38\\nENDBRANCH    5   36\\nTORSDOF 10\\nENDMDL\\n'}]}}"
      ]
     },
     "execution_count": 58,
     "metadata": {},
     "output_type": "execute_result"
    }
   ],
   "source": [
    "sample"
   ]
  },
  {
   "cell_type": "code",
   "execution_count": 13,
   "metadata": {},
   "outputs": [
    {
     "data": {
      "text/plain": [
       "dict_keys(['mol', 'smiles', 'ligand_filename', 'pred_pos', 'pred_v', 'chem_results', 'vina'])"
      ]
     },
     "execution_count": 13,
     "metadata": {},
     "output_type": "execute_result"
    }
   ],
   "source": [
    "sample.keys()"
   ]
  },
  {
   "cell_type": "code",
   "execution_count": 38,
   "metadata": {},
   "outputs": [
    {
     "data": {
      "image/png": "[encoded data removed]",
      "text/plain": [
       "<rdkit.Chem.rdchem.Mol at 0x112547650>"
      ]
     },
     "execution_count": 38,
     "metadata": {},
     "output_type": "execute_result"
    }
   ],
   "source": [
    "mol = sample[\"mol\"]\n",
    "mol"
   ]
  },
  {
   "cell_type": "code",
   "execution_count": 40,
   "metadata": {},
   "outputs": [],
   "source": [
    "mols = [sample[\"mol\"] for sample in data[0]]"
   ]
  },
  {
   "cell_type": "code",
   "execution_count": 42,
   "metadata": {},
   "outputs": [],
   "source": [
    "dm.to_sdf(mols, \"targetdiff_test.sdf\")"
   ]
  },
  {
   "cell_type": "code",
   "execution_count": 14,
   "metadata": {},
   "outputs": [
    {
     "data": {
      "text/plain": [
       "{'score_only': [{'affinity': -7.489, 'pose': None}],\n",
       " 'minimize': [{'affinity': -8.39,\n",
       "   'pose': 'REMARK Flexibility Score: inf\\nREMARK Active torsions [ 10 ] -> [ 10 ]\\nROOT\\nATOM      1  C1  LIG L   1      22.214  33.380 106.899  1.00  0.00     0.217 C \\nATOM      2  C2  LIG L   1      25.247  34.191 105.515  1.00  0.00     0.045 C \\nATOM      3  C3  LIG L   1      23.238  32.764 104.753  1.00  0.00     0.052 C \\nATOM      4  N1  LIG L   1      23.401  34.099 107.041  1.00  0.00    -0.309 N \\nATOM      5  C4  LIG L   1      25.279  34.765 102.452  1.00  0.00     0.071 C \\nATOM      6  C5  LIG L   1      24.804  33.977 106.807  1.00  0.00     0.106 C \\nATOM      7  O1  LIG L   1      21.019  33.796 107.289  1.00  0.00    -0.275 OA\\nATOM      8  C6  LIG L   1      24.709  34.029 103.303  1.00  0.00    -0.119 C \\nATOM      9  C7  LIG L   1      24.337  33.648 104.531  1.00  0.00    -0.022 C \\nATOM     10  C8  LIG L   1      22.078  32.602 105.628  1.00  0.00     0.082 C \\nATOM     11  H1  LIG L   1      23.198  35.022 107.449  1.00  0.00     0.149 HD\\nENDROOT\\nBRANCH    2   12\\nATOM     12  C9  LIG L   1      26.429  34.812 105.019  1.00  0.00     0.014 C \\nBRANCH   12   13\\nATOM     13 C10  LIG L   1      27.088  35.730 104.556  1.00  0.00    -0.003 C \\nATOM     14 C11  LIG L   1      28.648  34.120 103.821  1.00  0.00     0.002 C \\nATOM     15 C12  LIG L   1      29.744  34.987 103.886  1.00  0.00     0.092 C \\nATOM     16 C13  LIG L   1      28.863  32.912 103.024  1.00  0.00     0.009 C \\nATOM     17 C14  LIG L   1      27.437  34.607 104.299  1.00  0.00     0.008 C \\nATOM     18 C15  LIG L   1      31.150  34.727 103.848  1.00  0.00     0.184 C \\nATOM     19 C16  LIG L   1      29.369  36.352 104.038  1.00  0.00     0.140 C \\nATOM     20 C17  LIG L   1      30.296  32.631 102.714  1.00  0.00     0.067 C \\nATOM     21 C18  LIG L   1      31.603  33.489 103.061  1.00  0.00     0.192 C \\nATOM     22 C19  LIG L   1      28.044  36.791 104.394  1.00  0.00     0.078 C \\nATOM     23  O2  LIG L   1      30.309  37.195 103.838  1.00  0.00    -0.297 OA\\nBRANCH   18   24\\nATOM     24  O3  LIG L   1      31.966  35.094 104.874  1.00  0.00    -0.386 OA\\nATOM     25  H2  LIG L   1      31.531  34.874 105.736  1.00  0.00     0.210 HD\\nENDBRANCH   18   24\\nBRANCH   21   26\\nATOM     26  O4  LIG L   1      32.154  33.859 101.682  1.00  0.00    -0.363 OA\\nATOM     27  H3  LIG L   1      32.986  34.387 101.790  1.00  0.00     0.213 HD\\nENDBRANCH   21   26\\nBRANCH   21   28\\nATOM     28  O5  LIG L   1      32.811  32.963 103.713  1.00  0.00    -0.363 OA\\nATOM     29  H4  LIG L   1      32.691  32.984 104.696  1.00  0.00     0.213 HD\\nENDBRANCH   21   28\\nENDBRANCH   12   13\\nENDBRANCH    2   12\\nBRANCH    6   30\\nATOM     30 C20  LIG L   1      25.797  34.364 107.738  1.00  0.00     0.178 C \\nBRANCH   30   31\\nATOM     31  O6  LIG L   1      24.983  34.670 108.825  1.00  0.00    -0.393 OA\\nATOM     32  H5  LIG L   1      25.485  34.524 109.665  1.00  0.00     0.209 HD\\nENDBRANCH   30   31\\nENDBRANCH    6   30\\nBRANCH   10   33\\nATOM     33 C21  LIG L   1      21.320  31.310 105.661  1.00  0.00    -0.005 C \\nATOM     34 C22  LIG L   1      20.990  30.818 104.195  1.00  0.00     0.008 C \\nATOM     35 C23  LIG L   1      22.253  30.079 106.025  1.00  0.00     0.008 C \\nENDBRANCH   10   33\\nBRANCH    5   36\\nATOM     36 C24  LIG L   1      24.966  35.180 101.304  1.00  0.00     0.120 C \\nATOM     37  N2  LIG L   1      25.246  36.273 100.721  1.00  0.00    -0.244 NA\\nBRANCH   37   38\\nATOM     38 C25  LIG L   1      24.478  36.633  99.675  1.00  0.00     0.212 C \\nATOM     39  N3  LIG L   1      23.522  36.027  99.460  1.00  0.00    -0.289 NA\\nATOM     40  H6  LIG L   1      22.917  36.283  98.666  1.00  0.00     0.188 HD\\nENDBRANCH   37   38\\nENDBRANCH    5   36\\nTORSDOF 10\\n'}],\n",
       " 'dock': [{'affinity': -9.047,\n",
       "   'pose': 'MODEL 1\\nREMARK VINA RESULT:    -9.047      0.000      0.000\\nREMARK INTER + INTRA:         -12.659\\nREMARK INTER:                 -13.278\\nREMARK INTRA:                   0.619\\nREMARK UNBOUND:                 0.619\\nREMARK Flexibility Score: inf\\nREMARK Active torsions [ 10 ] -> [ 10 ]\\nROOT\\nATOM      1  C1  LIG L   1      22.160  33.183 106.663  1.00  0.00     0.217 C \\nATOM      2  C2  LIG L   1      25.203  34.094 105.363  1.00  0.00     0.045 C \\nATOM      3  C3  LIG L   1      23.217  32.691 104.501  1.00  0.00     0.052 C \\nATOM      4  N1  LIG L   1      23.339  33.904 106.858  1.00  0.00    -0.309 N \\nATOM      5  C4  LIG L   1      25.267  34.830 102.335  1.00  0.00     0.071 C \\nATOM      6  C5  LIG L   1      24.746  33.808 106.636  1.00  0.00     0.106 C \\nATOM      7  O1  LIG L   1      20.956  33.566 107.059  1.00  0.00    -0.275 OA\\nATOM      8  C6  LIG L   1      24.693  34.044 103.139  1.00  0.00    -0.119 C \\nATOM      9  C7  LIG L   1      24.310  33.595 104.340  1.00  0.00    -0.022 C \\nATOM     10  C8  LIG L   1      22.048  32.472 105.351  1.00  0.00     0.082 C \\nATOM     11  H1  LIG L   1      23.121  34.802 107.312  1.00  0.00     0.149 HD\\nENDROOT\\nBRANCH    2   12\\nATOM     12  C9  LIG L   1      26.384  34.752 104.916  1.00  0.00     0.014 C \\nBRANCH   12   13\\nATOM     13 C10  LIG L   1      27.030  35.683 104.461  1.00  0.00    -0.003 C \\nATOM     14 C11  LIG L   1      28.639  34.107 103.759  1.00  0.00     0.002 C \\nATOM     15 C12  LIG L   1      29.713  34.999 103.840  1.00  0.00     0.092 C \\nATOM     16 C13  LIG L   1      28.896  32.902 102.970  1.00  0.00     0.009 C \\nATOM     17 C14  LIG L   1      27.409  34.567 104.214  1.00  0.00     0.008 C \\nATOM     18 C15  LIG L   1      31.126  34.772 103.827  1.00  0.00     0.184 C \\nATOM     19 C16  LIG L   1      29.304  36.355 103.981  1.00  0.00     0.140 C \\nATOM     20 C17  LIG L   1      30.340  32.653 102.687  1.00  0.00     0.067 C \\nATOM     21 C18  LIG L   1      31.620  33.542 103.053  1.00  0.00     0.192 C \\nATOM     22 C19  LIG L   1      27.964  36.765 104.311  1.00  0.00     0.078 C \\nATOM     23  O2  LIG L   1      30.228  37.220 103.793  1.00  0.00    -0.297 OA\\nBRANCH   18   24\\nATOM     24  O3  LIG L   1      31.915  35.161 104.866  1.00  0.00    -0.386 OA\\nATOM     25  H2  LIG L   1      32.701  35.652 104.517  1.00  0.00     0.210 HD\\nENDBRANCH   18   24\\nBRANCH   21   26\\nATOM     26  O4  LIG L   1      32.187  33.921 101.682  1.00  0.00    -0.363 OA\\nATOM     27  H3  LIG L   1      32.861  33.249 101.407  1.00  0.00     0.213 HD\\nENDBRANCH   21   26\\nBRANCH   21   28\\nATOM     28  O5  LIG L   1      32.829  33.047 103.728  1.00  0.00    -0.363 OA\\nATOM     29  H4  LIG L   1      32.575  32.607 104.578  1.00  0.00     0.213 HD\\nENDBRANCH   21   28\\nENDBRANCH   12   13\\nENDBRANCH    2   12\\nBRANCH    6   30\\nATOM     30 C20  LIG L   1      25.723  34.154 107.599  1.00  0.00     0.178 C \\nBRANCH   30   31\\nATOM     31  O6  LIG L   1      24.888  34.578 108.629  1.00  0.00    -0.393 OA\\nATOM     32  H5  LIG L   1      25.421  35.058 109.310  1.00  0.00     0.209 HD\\nENDBRANCH   30   31\\nENDBRANCH    6   30\\nBRANCH   10   33\\nATOM     33 C21  LIG L   1      21.303  31.173 105.306  1.00  0.00    -0.005 C \\nATOM     34 C22  LIG L   1      21.446  30.495 103.884  1.00  0.00     0.008 C \\nATOM     35 C23  LIG L   1      22.058  30.023 106.096  1.00  0.00     0.008 C \\nENDBRANCH   10   33\\nBRANCH    5   36\\nATOM     36 C24  LIG L   1      24.964  35.302 101.207  1.00  0.00     0.120 C \\nATOM     37  N2  LIG L   1      24.929  36.505 100.802  1.00  0.00    -0.244 NA\\nBRANCH   37   38\\nATOM     38 C25  LIG L   1      24.207  36.767  99.696  1.00  0.00     0.212 C \\nATOM     39  N3  LIG L   1      23.505  35.948  99.290  1.00  0.00    -0.289 NA\\nATOM     40  H6  LIG L   1      22.942  36.124  98.446  1.00  0.00     0.188 HD\\nENDBRANCH   37   38\\nENDBRANCH    5   36\\nTORSDOF 10\\nENDMDL\\n'}]}"
      ]
     },
     "execution_count": 14,
     "metadata": {},
     "output_type": "execute_result"
    }
   ],
   "source": [
    "sample[\"vina\"]"
   ]
  },
  {
   "cell_type": "code",
   "execution_count": 106,
   "metadata": {},
   "outputs": [],
   "source": [
    "pose = sample[\"vina\"][\"dock\"][0][\"pose\"]"
   ]
  },
  {
   "cell_type": "code",
   "execution_count": 109,
   "metadata": {},
   "outputs": [
    {
     "data": {
      "text/plain": [
       "'MODEL 1\\nREMARK VINA RESULT:    -9.047      0.000      0.000\\nREMARK INTER + INTRA:         -12.659\\nREMARK INTER:                 -13.278\\nREMARK INTRA:                   0.619\\nREMARK UNBOUND:                 0.619\\nREMARK Flexibility Score: inf\\nREMARK Active torsions [ 10 ] -> [ 10 ]\\nROOT\\nATOM      1  C1  LIG L   1      22.160  33.183 106.663  1.00  0.00     0.217 C \\nATOM      2  C2  LIG L   1      25.203  34.094 105.363  1.00  0.00     0.045 C \\nATOM      3  C3  LIG L   1      23.217  32.691 104.501  1.00  0.00     0.052 C \\nATOM      4  N1  LIG L   1      23.339  33.904 106.858  1.00  0.00    -0.309 N \\nATOM      5  C4  LIG L   1      25.267  34.830 102.335  1.00  0.00     0.071 C \\nATOM      6  C5  LIG L   1      24.746  33.808 106.636  1.00  0.00     0.106 C \\nATOM      7  O1  LIG L   1      20.956  33.566 107.059  1.00  0.00    -0.275 OA\\nATOM      8  C6  LIG L   1      24.693  34.044 103.139  1.00  0.00    -0.119 C \\nATOM      9  C7  LIG L   1      24.310  33.595 104.340  1.00  0.00    -0.022 C \\nATOM     10  C8  LIG L   1      22.048  32.472 105.351  1.00  0.00     0.082 C \\nATOM     11  H1  LIG L   1      23.121  34.802 107.312  1.00  0.00     0.149 HD\\nENDROOT\\nBRANCH    2   12\\nATOM     12  C9  LIG L   1      26.384  34.752 104.916  1.00  0.00     0.014 C \\nBRANCH   12   13\\nATOM     13 C10  LIG L   1      27.030  35.683 104.461  1.00  0.00    -0.003 C \\nATOM     14 C11  LIG L   1      28.639  34.107 103.759  1.00  0.00     0.002 C \\nATOM     15 C12  LIG L   1      29.713  34.999 103.840  1.00  0.00     0.092 C \\nATOM     16 C13  LIG L   1      28.896  32.902 102.970  1.00  0.00     0.009 C \\nATOM     17 C14  LIG L   1      27.409  34.567 104.214  1.00  0.00     0.008 C \\nATOM     18 C15  LIG L   1      31.126  34.772 103.827  1.00  0.00     0.184 C \\nATOM     19 C16  LIG L   1      29.304  36.355 103.981  1.00  0.00     0.140 C \\nATOM     20 C17  LIG L   1      30.340  32.653 102.687  1.00  0.00     0.067 C \\nATOM     21 C18  LIG L   1      31.620  33.542 103.053  1.00  0.00     0.192 C \\nATOM     22 C19  LIG L   1      27.964  36.765 104.311  1.00  0.00     0.078 C \\nATOM     23  O2  LIG L   1      30.228  37.220 103.793  1.00  0.00    -0.297 OA\\nBRANCH   18   24\\nATOM     24  O3  LIG L   1      31.915  35.161 104.866  1.00  0.00    -0.386 OA\\nATOM     25  H2  LIG L   1      32.701  35.652 104.517  1.00  0.00     0.210 HD\\nENDBRANCH   18   24\\nBRANCH   21   26\\nATOM     26  O4  LIG L   1      32.187  33.921 101.682  1.00  0.00    -0.363 OA\\nATOM     27  H3  LIG L   1      32.861  33.249 101.407  1.00  0.00     0.213 HD\\nENDBRANCH   21   26\\nBRANCH   21   28\\nATOM     28  O5  LIG L   1      32.829  33.047 103.728  1.00  0.00    -0.363 OA\\nATOM     29  H4  LIG L   1      32.575  32.607 104.578  1.00  0.00     0.213 HD\\nENDBRANCH   21   28\\nENDBRANCH   12   13\\nENDBRANCH    2   12\\nBRANCH    6   30\\nATOM     30 C20  LIG L   1      25.723  34.154 107.599  1.00  0.00     0.178 C \\nBRANCH   30   31\\nATOM     31  O6  LIG L   1      24.888  34.578 108.629  1.00  0.00    -0.393 OA\\nATOM     32  H5  LIG L   1      25.421  35.058 109.310  1.00  0.00     0.209 HD\\nENDBRANCH   30   31\\nENDBRANCH    6   30\\nBRANCH   10   33\\nATOM     33 C21  LIG L   1      21.303  31.173 105.306  1.00  0.00    -0.005 C \\nATOM     34 C22  LIG L   1      21.446  30.495 103.884  1.00  0.00     0.008 C \\nATOM     35 C23  LIG L   1      22.058  30.023 106.096  1.00  0.00     0.008 C \\nENDBRANCH   10   33\\nBRANCH    5   36\\nATOM     36 C24  LIG L   1      24.964  35.302 101.207  1.00  0.00     0.120 C \\nATOM     37  N2  LIG L   1      24.929  36.505 100.802  1.00  0.00    -0.244 NA\\nBRANCH   37   38\\nATOM     38 C25  LIG L   1      24.207  36.767  99.696  1.00  0.00     0.212 C \\nATOM     39  N3  LIG L   1      23.505  35.948  99.290  1.00  0.00    -0.289 NA\\nATOM     40  H6  LIG L   1      22.942  36.124  98.446  1.00  0.00     0.188 HD\\nENDBRANCH   37   38\\nENDBRANCH    5   36\\nTORSDOF 10\\nENDMDL\\n'"
      ]
     },
     "execution_count": 109,
     "metadata": {},
     "output_type": "execute_result"
    }
   ],
   "source": [
    "pose"
   ]
  },
  {
   "cell_type": "code",
   "execution_count": 110,
   "metadata": {},
   "outputs": [
    {
     "data": {
      "text/plain": [
       "[]"
      ]
     },
     "execution_count": 110,
     "metadata": {},
     "output_type": "execute_result"
    }
   ],
   "source": [
    "dm.read_sdf(\"test.sdf\")"
   ]
  },
  {
   "cell_type": "code",
   "execution_count": 112,
   "metadata": {},
   "outputs": [
    {
     "name": "stdout",
     "output_type": "stream",
     "text": [
      "MODEL 1\n",
      "REMARK VINA RESULT:    -9.047      0.000      0.000\n",
      "REMARK INTER + INTRA:         -12.659\n",
      "REMARK INTER:                 -13.278\n",
      "REMARK INTRA:                   0.619\n",
      "REMARK UNBOUND:                 0.619\n",
      "REMARK Flexibility Score: inf\n",
      "REMARK Active torsions [ 10 ] -> [ 10 ]\n",
      "ROOT\n",
      "ATOM      1  C1  LIG L   1      22.160  33.183 106.663  1.00  0.00     0.217 C \n",
      "ATOM      2  C2  LIG L   1      25.203  34.094 105.363  1.00  0.00     0.045 C \n",
      "ATOM      3  C3  LIG L   1      23.217  32.691 104.501  1.00  0.00     0.052 C \n",
      "ATOM      4  N1  LIG L   1      23.339  33.904 106.858  1.00  0.00    -0.309 N \n",
      "ATOM      5  C4  LIG L   1      25.267  34.830 102.335  1.00  0.00     0.071 C \n",
      "ATOM      6  C5  LIG L   1      24.746  33.808 106.636  1.00  0.00     0.106 C \n",
      "ATOM      7  O1  LIG L   1      20.956  33.566 107.059  1.00  0.00    -0.275 OA\n",
      "ATOM      8  C6  LIG L   1      24.693  34.044 103.139  1.00  0.00    -0.119 C \n",
      "ATOM      9  C7  LIG L   1      24.310  33.595 104.340  1.00  0.00    -0.022 C \n",
      "ATOM     10  C8  LIG L   1      22.048  32.472 105.351  1.00  0.00     0.082 C \n",
      "ATOM     11  H1  LIG L   1      23.121  34.802 107.312  1.00  0.00     0.149 HD\n",
      "ENDROOT\n",
      "BRANCH    2   12\n",
      "ATOM     12  C9  LIG L   1      26.384  34.752 104.916  1.00  0.00     0.014 C \n",
      "BRANCH   12   13\n",
      "ATOM     13 C10  LIG L   1      27.030  35.683 104.461  1.00  0.00    -0.003 C \n",
      "ATOM     14 C11  LIG L   1      28.639  34.107 103.759  1.00  0.00     0.002 C \n",
      "ATOM     15 C12  LIG L   1      29.713  34.999 103.840  1.00  0.00     0.092 C \n",
      "ATOM     16 C13  LIG L   1      28.896  32.902 102.970  1.00  0.00     0.009 C \n",
      "ATOM     17 C14  LIG L   1      27.409  34.567 104.214  1.00  0.00     0.008 C \n",
      "ATOM     18 C15  LIG L   1      31.126  34.772 103.827  1.00  0.00     0.184 C \n",
      "ATOM     19 C16  LIG L   1      29.304  36.355 103.981  1.00  0.00     0.140 C \n",
      "ATOM     20 C17  LIG L   1      30.340  32.653 102.687  1.00  0.00     0.067 C \n",
      "ATOM     21 C18  LIG L   1      31.620  33.542 103.053  1.00  0.00     0.192 C \n",
      "ATOM     22 C19  LIG L   1      27.964  36.765 104.311  1.00  0.00     0.078 C \n",
      "ATOM     23  O2  LIG L   1      30.228  37.220 103.793  1.00  0.00    -0.297 OA\n",
      "BRANCH   18   24\n",
      "ATOM     24  O3  LIG L   1      31.915  35.161 104.866  1.00  0.00    -0.386 OA\n",
      "ATOM     25  H2  LIG L   1      32.701  35.652 104.517  1.00  0.00     0.210 HD\n",
      "ENDBRANCH   18   24\n",
      "BRANCH   21   26\n",
      "ATOM     26  O4  LIG L   1      32.187  33.921 101.682  1.00  0.00    -0.363 OA\n",
      "ATOM     27  H3  LIG L   1      32.861  33.249 101.407  1.00  0.00     0.213 HD\n",
      "ENDBRANCH   21   26\n",
      "BRANCH   21   28\n",
      "ATOM     28  O5  LIG L   1      32.829  33.047 103.728  1.00  0.00    -0.363 OA\n",
      "ATOM     29  H4  LIG L   1      32.575  32.607 104.578  1.00  0.00     0.213 HD\n",
      "ENDBRANCH   21   28\n",
      "ENDBRANCH   12   13\n",
      "ENDBRANCH    2   12\n",
      "BRANCH    6   30\n",
      "ATOM     30 C20  LIG L   1      25.723  34.154 107.599  1.00  0.00     0.178 C \n",
      "BRANCH   30   31\n",
      "ATOM     31  O6  LIG L   1      24.888  34.578 108.629  1.00  0.00    -0.393 OA\n",
      "ATOM     32  H5  LIG L   1      25.421  35.058 109.310  1.00  0.00     0.209 HD\n",
      "ENDBRANCH   30   31\n",
      "ENDBRANCH    6   30\n",
      "BRANCH   10   33\n",
      "ATOM     33 C21  LIG L   1      21.303  31.173 105.306  1.00  0.00    -0.005 C \n",
      "ATOM     34 C22  LIG L   1      21.446  30.495 103.884  1.00  0.00     0.008 C \n",
      "ATOM     35 C23  LIG L   1      22.058  30.023 106.096  1.00  0.00     0.008 C \n",
      "ENDBRANCH   10   33\n",
      "BRANCH    5   36\n",
      "ATOM     36 C24  LIG L   1      24.964  35.302 101.207  1.00  0.00     0.120 C \n",
      "ATOM     37  N2  LIG L   1      24.929  36.505 100.802  1.00  0.00    -0.244 NA\n",
      "BRANCH   37   38\n",
      "ATOM     38 C25  LIG L   1      24.207  36.767  99.696  1.00  0.00     0.212 C \n",
      "ATOM     39  N3  LIG L   1      23.505  35.948  99.290  1.00  0.00    -0.289 NA\n",
      "ATOM     40  H6  LIG L   1      22.942  36.124  98.446  1.00  0.00     0.188 HD\n",
      "ENDBRANCH   37   38\n",
      "ENDBRANCH    5   36\n",
      "TORSDOF 10\n",
      "ENDMDL\n",
      "\n"
     ]
    }
   ],
   "source": [
    "# write pose to sdf\n",
    "for line in pose.split(\"\\n\"):\n",
    "    print(line)"
   ]
  },
  {
   "cell_type": "code",
   "execution_count": 108,
   "metadata": {},
   "outputs": [
    {
     "data": {
      "text/plain": [
       "['MODEL 1',\n",
       " 'REMARK VINA RESULT:    -9.047      0.000      0.000',\n",
       " 'REMARK INTER + INTRA:         -12.659',\n",
       " 'REMARK INTER:                 -13.278',\n",
       " 'REMARK INTRA:                   0.619',\n",
       " 'REMARK UNBOUND:                 0.619',\n",
       " 'REMARK Flexibility Score: inf',\n",
       " 'REMARK Active torsions [ 10 ] -> [ 10 ]',\n",
       " 'ROOT',\n",
       " 'ATOM      1  C1  LIG L   1      22.160  33.183 106.663  1.00  0.00     0.217 C ',\n",
       " 'ATOM      2  C2  LIG L   1      25.203  34.094 105.363  1.00  0.00     0.045 C ',\n",
       " 'ATOM      3  C3  LIG L   1      23.217  32.691 104.501  1.00  0.00     0.052 C ',\n",
       " 'ATOM      4  N1  LIG L   1      23.339  33.904 106.858  1.00  0.00    -0.309 N ',\n",
       " 'ATOM      5  C4  LIG L   1      25.267  34.830 102.335  1.00  0.00     0.071 C ',\n",
       " 'ATOM      6  C5  LIG L   1      24.746  33.808 106.636  1.00  0.00     0.106 C ',\n",
       " 'ATOM      7  O1  LIG L   1      20.956  33.566 107.059  1.00  0.00    -0.275 OA',\n",
       " 'ATOM      8  C6  LIG L   1      24.693  34.044 103.139  1.00  0.00    -0.119 C ',\n",
       " 'ATOM      9  C7  LIG L   1      24.310  33.595 104.340  1.00  0.00    -0.022 C ',\n",
       " 'ATOM     10  C8  LIG L   1      22.048  32.472 105.351  1.00  0.00     0.082 C ',\n",
       " 'ATOM     11  H1  LIG L   1      23.121  34.802 107.312  1.00  0.00     0.149 HD',\n",
       " 'ENDROOT',\n",
       " 'BRANCH    2   12',\n",
       " 'ATOM     12  C9  LIG L   1      26.384  34.752 104.916  1.00  0.00     0.014 C ',\n",
       " 'BRANCH   12   13',\n",
       " 'ATOM     13 C10  LIG L   1      27.030  35.683 104.461  1.00  0.00    -0.003 C ',\n",
       " 'ATOM     14 C11  LIG L   1      28.639  34.107 103.759  1.00  0.00     0.002 C ',\n",
       " 'ATOM     15 C12  LIG L   1      29.713  34.999 103.840  1.00  0.00     0.092 C ',\n",
       " 'ATOM     16 C13  LIG L   1      28.896  32.902 102.970  1.00  0.00     0.009 C ',\n",
       " 'ATOM     17 C14  LIG L   1      27.409  34.567 104.214  1.00  0.00     0.008 C ',\n",
       " 'ATOM     18 C15  LIG L   1      31.126  34.772 103.827  1.00  0.00     0.184 C ',\n",
       " 'ATOM     19 C16  LIG L   1      29.304  36.355 103.981  1.00  0.00     0.140 C ',\n",
       " 'ATOM     20 C17  LIG L   1      30.340  32.653 102.687  1.00  0.00     0.067 C ',\n",
       " 'ATOM     21 C18  LIG L   1      31.620  33.542 103.053  1.00  0.00     0.192 C ',\n",
       " 'ATOM     22 C19  LIG L   1      27.964  36.765 104.311  1.00  0.00     0.078 C ',\n",
       " 'ATOM     23  O2  LIG L   1      30.228  37.220 103.793  1.00  0.00    -0.297 OA',\n",
       " 'BRANCH   18   24',\n",
       " 'ATOM     24  O3  LIG L   1      31.915  35.161 104.866  1.00  0.00    -0.386 OA',\n",
       " 'ATOM     25  H2  LIG L   1      32.701  35.652 104.517  1.00  0.00     0.210 HD',\n",
       " 'ENDBRANCH   18   24',\n",
       " 'BRANCH   21   26',\n",
       " 'ATOM     26  O4  LIG L   1      32.187  33.921 101.682  1.00  0.00    -0.363 OA',\n",
       " 'ATOM     27  H3  LIG L   1      32.861  33.249 101.407  1.00  0.00     0.213 HD',\n",
       " 'ENDBRANCH   21   26',\n",
       " 'BRANCH   21   28',\n",
       " 'ATOM     28  O5  LIG L   1      32.829  33.047 103.728  1.00  0.00    -0.363 OA',\n",
       " 'ATOM     29  H4  LIG L   1      32.575  32.607 104.578  1.00  0.00     0.213 HD',\n",
       " 'ENDBRANCH   21   28',\n",
       " 'ENDBRANCH   12   13',\n",
       " 'ENDBRANCH    2   12',\n",
       " 'BRANCH    6   30',\n",
       " 'ATOM     30 C20  LIG L   1      25.723  34.154 107.599  1.00  0.00     0.178 C ',\n",
       " 'BRANCH   30   31',\n",
       " 'ATOM     31  O6  LIG L   1      24.888  34.578 108.629  1.00  0.00    -0.393 OA',\n",
       " 'ATOM     32  H5  LIG L   1      25.421  35.058 109.310  1.00  0.00     0.209 HD',\n",
       " 'ENDBRANCH   30   31',\n",
       " 'ENDBRANCH    6   30',\n",
       " 'BRANCH   10   33',\n",
       " 'ATOM     33 C21  LIG L   1      21.303  31.173 105.306  1.00  0.00    -0.005 C ',\n",
       " 'ATOM     34 C22  LIG L   1      21.446  30.495 103.884  1.00  0.00     0.008 C ',\n",
       " 'ATOM     35 C23  LIG L   1      22.058  30.023 106.096  1.00  0.00     0.008 C ',\n",
       " 'ENDBRANCH   10   33',\n",
       " 'BRANCH    5   36',\n",
       " 'ATOM     36 C24  LIG L   1      24.964  35.302 101.207  1.00  0.00     0.120 C ',\n",
       " 'ATOM     37  N2  LIG L   1      24.929  36.505 100.802  1.00  0.00    -0.244 NA',\n",
       " 'BRANCH   37   38',\n",
       " 'ATOM     38 C25  LIG L   1      24.207  36.767  99.696  1.00  0.00     0.212 C ',\n",
       " 'ATOM     39  N3  LIG L   1      23.505  35.948  99.290  1.00  0.00    -0.289 NA',\n",
       " 'ATOM     40  H6  LIG L   1      22.942  36.124  98.446  1.00  0.00     0.188 HD',\n",
       " 'ENDBRANCH   37   38',\n",
       " 'ENDBRANCH    5   36',\n",
       " 'TORSDOF 10',\n",
       " 'ENDMDL',\n",
       " '']"
      ]
     },
     "execution_count": 108,
     "metadata": {},
     "output_type": "execute_result"
    }
   ],
   "source": [
    "pose.split(\"\\n\")"
   ]
  },
  {
   "cell_type": "code",
   "execution_count": 107,
   "metadata": {},
   "outputs": [
    {
     "name": "stderr",
     "output_type": "stream",
     "text": [
      "[10:35:58] Cannot convert 'REM' to unsigned int on line 4\n"
     ]
    }
   ],
   "source": [
    "mol = Chem.MolFromMolBlock(pose)"
   ]
  },
  {
   "cell_type": "code",
   "execution_count": 84,
   "metadata": {},
   "outputs": [
    {
     "data": {
      "text/plain": [
       "'REMARK Flexibility Score: inf\\nREMARK Active torsions [ 10 ] -> [ 10 ]\\nROOT\\nATOM      1  C1  LIG L   1      22.214  33.380 106.899  1.00  0.00     0.217 C \\nATOM      2  C2  LIG L   1      25.247  34.191 105.515  1.00  0.00     0.045 C \\nATOM      3  C3  LIG L   1      23.238  32.764 104.753  1.00  0.00     0.052 C \\nATOM      4  N1  LIG L   1      23.401  34.099 107.041  1.00  0.00    -0.309 N \\nATOM      5  C4  LIG L   1      25.279  34.765 102.452  1.00  0.00     0.071 C \\nATOM      6  C5  LIG L   1      24.804  33.977 106.807  1.00  0.00     0.106 C \\nATOM      7  O1  LIG L   1      21.019  33.796 107.289  1.00  0.00    -0.275 OA\\nATOM      8  C6  LIG L   1      24.709  34.029 103.303  1.00  0.00    -0.119 C \\nATOM      9  C7  LIG L   1      24.337  33.648 104.531  1.00  0.00    -0.022 C \\nATOM     10  C8  LIG L   1      22.078  32.602 105.628  1.00  0.00     0.082 C \\nATOM     11  H1  LIG L   1      23.198  35.022 107.449  1.00  0.00     0.149 HD\\nENDROOT\\nBRANCH    2   12\\nATOM     12  C9  LIG L   1      26.429  34.812 105.019  1.00  0.00     0.014 C \\nBRANCH   12   13\\nATOM     13 C10  LIG L   1      27.088  35.730 104.556  1.00  0.00    -0.003 C \\nATOM     14 C11  LIG L   1      28.648  34.120 103.821  1.00  0.00     0.002 C \\nATOM     15 C12  LIG L   1      29.744  34.987 103.886  1.00  0.00     0.092 C \\nATOM     16 C13  LIG L   1      28.863  32.912 103.024  1.00  0.00     0.009 C \\nATOM     17 C14  LIG L   1      27.437  34.607 104.299  1.00  0.00     0.008 C \\nATOM     18 C15  LIG L   1      31.150  34.727 103.848  1.00  0.00     0.184 C \\nATOM     19 C16  LIG L   1      29.369  36.352 104.038  1.00  0.00     0.140 C \\nATOM     20 C17  LIG L   1      30.296  32.631 102.714  1.00  0.00     0.067 C \\nATOM     21 C18  LIG L   1      31.603  33.489 103.061  1.00  0.00     0.192 C \\nATOM     22 C19  LIG L   1      28.044  36.791 104.394  1.00  0.00     0.078 C \\nATOM     23  O2  LIG L   1      30.309  37.195 103.838  1.00  0.00    -0.297 OA\\nBRANCH   18   24\\nATOM     24  O3  LIG L   1      31.966  35.094 104.874  1.00  0.00    -0.386 OA\\nATOM     25  H2  LIG L   1      31.531  34.874 105.736  1.00  0.00     0.210 HD\\nENDBRANCH   18   24\\nBRANCH   21   26\\nATOM     26  O4  LIG L   1      32.154  33.859 101.682  1.00  0.00    -0.363 OA\\nATOM     27  H3  LIG L   1      32.986  34.387 101.790  1.00  0.00     0.213 HD\\nENDBRANCH   21   26\\nBRANCH   21   28\\nATOM     28  O5  LIG L   1      32.811  32.963 103.713  1.00  0.00    -0.363 OA\\nATOM     29  H4  LIG L   1      32.691  32.984 104.696  1.00  0.00     0.213 HD\\nENDBRANCH   21   28\\nENDBRANCH   12   13\\nENDBRANCH    2   12\\nBRANCH    6   30\\nATOM     30 C20  LIG L   1      25.797  34.364 107.738  1.00  0.00     0.178 C \\nBRANCH   30   31\\nATOM     31  O6  LIG L   1      24.983  34.670 108.825  1.00  0.00    -0.393 OA\\nATOM     32  H5  LIG L   1      25.485  34.524 109.665  1.00  0.00     0.209 HD\\nENDBRANCH   30   31\\nENDBRANCH    6   30\\nBRANCH   10   33\\nATOM     33 C21  LIG L   1      21.320  31.310 105.661  1.00  0.00    -0.005 C \\nATOM     34 C22  LIG L   1      20.990  30.818 104.195  1.00  0.00     0.008 C \\nATOM     35 C23  LIG L   1      22.253  30.079 106.025  1.00  0.00     0.008 C \\nENDBRANCH   10   33\\nBRANCH    5   36\\nATOM     36 C24  LIG L   1      24.966  35.180 101.304  1.00  0.00     0.120 C \\nATOM     37  N2  LIG L   1      25.246  36.273 100.721  1.00  0.00    -0.244 NA\\nBRANCH   37   38\\nATOM     38 C25  LIG L   1      24.478  36.633  99.675  1.00  0.00     0.212 C \\nATOM     39  N3  LIG L   1      23.522  36.027  99.460  1.00  0.00    -0.289 NA\\nATOM     40  H6  LIG L   1      22.917  36.283  98.666  1.00  0.00     0.188 HD\\nENDBRANCH   37   38\\nENDBRANCH    5   36\\nTORSDOF 10\\n'"
      ]
     },
     "execution_count": 84,
     "metadata": {},
     "output_type": "execute_result"
    }
   ],
   "source": [
    "pose"
   ]
  },
  {
   "cell_type": "code",
   "execution_count": 61,
   "metadata": {},
   "outputs": [
    {
     "data": {
      "text/plain": [
       "3883"
      ]
     },
     "execution_count": 61,
     "metadata": {},
     "output_type": "execute_result"
    }
   ],
   "source": [
    "len(pose)"
   ]
  },
  {
   "cell_type": "code",
   "execution_count": 80,
   "metadata": {},
   "outputs": [],
   "source": [
    "mol = sample[\"mol\"]"
   ]
  },
  {
   "cell_type": "code",
   "execution_count": 82,
   "metadata": {},
   "outputs": [
    {
     "data": {
      "image/png": "[encoded data removed]",
      "text/plain": [
       "<rdkit.Chem.rdchem.Mol at 0x112547650>"
      ]
     },
     "execution_count": 82,
     "metadata": {},
     "output_type": "execute_result"
    }
   ],
   "source": [
    "sample[\"mol\"]"
   ]
  },
  {
   "cell_type": "code",
   "execution_count": 92,
   "metadata": {},
   "outputs": [
    {
     "data": {
      "text/plain": [
       "(34, 3)"
      ]
     },
     "execution_count": 92,
     "metadata": {},
     "output_type": "execute_result"
    }
   ],
   "source": [
    "sample[\"pred_pos\"].shape"
   ]
  },
  {
   "cell_type": "code",
   "execution_count": 105,
   "metadata": {},
   "outputs": [
    {
     "name": "stderr",
     "output_type": "stream",
     "text": [
      "[10:35:37] Cannot convert 'ATO' to unsigned int on line 4\n"
     ]
    }
   ],
   "source": [
    "mol = Chem.MolFromMolBlock(pose)"
   ]
  },
  {
   "cell_type": "code",
   "execution_count": 93,
   "metadata": {},
   "outputs": [
    {
     "name": "stdout",
     "output_type": "stream",
     "text": [
      "C\n",
      "C\n",
      "O\n",
      "C\n",
      "C\n",
      "C\n",
      "C\n",
      "C\n",
      "C\n",
      "C\n",
      "O\n",
      "C\n",
      "C\n",
      "N\n",
      "C\n",
      "N\n",
      "C\n",
      "O\n",
      "C\n",
      "C\n",
      "C\n",
      "O\n",
      "C\n",
      "N\n",
      "C\n",
      "C\n",
      "C\n",
      "C\n",
      "C\n",
      "C\n",
      "O\n",
      "C\n",
      "C\n",
      "O\n"
     ]
    }
   ],
   "source": [
    "# print atom types\n",
    "for atom in mol.GetAtoms():\n",
    "    print(atom.GetSymbol())"
   ]
  },
  {
   "cell_type": "code",
   "execution_count": 81,
   "metadata": {},
   "outputs": [
    {
     "data": {
      "text/plain": [
       "array([[ 28.64857674,  34.2102356 , 103.89121246],\n",
       "       [ 22.26242256,  33.43259048, 107.04077148],\n",
       "       [ 32.12720108,  33.9423027 , 101.70831299],\n",
       "       [ 25.26725006,  34.27240372, 105.61209869],\n",
       "       [ 23.24348831,  32.85912323, 104.86436462],\n",
       "       [ 29.7340126 ,  35.09168625, 103.92012787],\n",
       "       [ 28.01941681,  36.88599777, 104.40847778],\n",
       "       [ 24.90070724,  35.34159851, 101.42758942],\n",
       "       [ 21.34413528,  31.38601875, 105.78197479],\n",
       "       [ 25.86146164,  34.40193176, 107.82698059],\n",
       "       [ 25.07189178,  34.65364838, 108.94551086],\n",
       "       [ 21.00190163,  30.91161919, 104.3117218 ],\n",
       "       [ 26.43770218,  34.90323257, 105.10548401],\n",
       "       [ 23.45197296,  34.14904785, 107.172966  ],\n",
       "       [ 25.23684692,  34.90486145, 102.56072235],\n",
       "       [ 25.21239662,  36.42338181, 100.83914185],\n",
       "       [ 24.85019875,  34.03287506, 106.90937042],\n",
       "       [ 21.07470703,  33.83969498, 107.46297455],\n",
       "       [ 22.27993011,  30.15244484, 106.12352753],\n",
       "       [ 28.86818695,  32.98558044, 103.12010956],\n",
       "       [ 31.14350891,  34.84894943, 103.8670578 ],\n",
       "       [ 31.96853256,  35.24972534, 104.87184906],\n",
       "       [ 29.344347  ,  36.45523834, 104.04463196],\n",
       "       [ 23.39847946,  36.31658554,  99.68804932],\n",
       "       [ 24.42250061,  36.82730865,  99.82526398],\n",
       "       [ 24.68378639,  34.15195084, 103.40932465],\n",
       "       [ 27.0785923 ,  35.81770706, 104.61087036],\n",
       "       [ 30.29847908,  32.71575546, 102.79611969],\n",
       "       [ 24.33670616,  33.7466011 , 104.63689423],\n",
       "       [ 31.60033417,  33.59806824, 103.10264587],\n",
       "       [ 30.26961517,  37.30500793, 103.81077576],\n",
       "       [ 27.43854713,  34.69253159, 104.37508392],\n",
       "       [ 22.10116196,  32.67943573, 105.75772095],\n",
       "       [ 32.82442093,  33.10329437, 103.75038147]])"
      ]
     },
     "execution_count": 81,
     "metadata": {},
     "output_type": "execute_result"
    }
   ],
   "source": [
    "sample[\"pred_pos\"]"
   ]
  },
  {
   "cell_type": "code",
   "execution_count": 102,
   "metadata": {},
   "outputs": [
    {
     "data": {
      "text/plain": [
       "['REMARK Flexibility Score: inf',\n",
       " 'REMARK Active torsions [ 10 ] -> [ 10 ]',\n",
       " 'ROOT',\n",
       " 'ATOM      1  C1  LIG L   1      22.214  33.380 106.899  1.00  0.00     0.217 C ',\n",
       " 'ATOM      2  C2  LIG L   1      25.247  34.191 105.515  1.00  0.00     0.045 C ',\n",
       " 'ATOM      3  C3  LIG L   1      23.238  32.764 104.753  1.00  0.00     0.052 C ',\n",
       " 'ATOM      4  N1  LIG L   1      23.401  34.099 107.041  1.00  0.00    -0.309 N ',\n",
       " 'ATOM      5  C4  LIG L   1      25.279  34.765 102.452  1.00  0.00     0.071 C ',\n",
       " 'ATOM      6  C5  LIG L   1      24.804  33.977 106.807  1.00  0.00     0.106 C ',\n",
       " 'ATOM      7  O1  LIG L   1      21.019  33.796 107.289  1.00  0.00    -0.275 OA',\n",
       " 'ATOM      8  C6  LIG L   1      24.709  34.029 103.303  1.00  0.00    -0.119 C ',\n",
       " 'ATOM      9  C7  LIG L   1      24.337  33.648 104.531  1.00  0.00    -0.022 C ',\n",
       " 'ATOM     10  C8  LIG L   1      22.078  32.602 105.628  1.00  0.00     0.082 C ',\n",
       " 'ATOM     11  H1  LIG L   1      23.198  35.022 107.449  1.00  0.00     0.149 HD',\n",
       " 'ENDROOT',\n",
       " 'BRANCH    2   12',\n",
       " 'ATOM     12  C9  LIG L   1      26.429  34.812 105.019  1.00  0.00     0.014 C ',\n",
       " 'BRANCH   12   13',\n",
       " 'ATOM     13 C10  LIG L   1      27.088  35.730 104.556  1.00  0.00    -0.003 C ',\n",
       " 'ATOM     14 C11  LIG L   1      28.648  34.120 103.821  1.00  0.00     0.002 C ',\n",
       " 'ATOM     15 C12  LIG L   1      29.744  34.987 103.886  1.00  0.00     0.092 C ',\n",
       " 'ATOM     16 C13  LIG L   1      28.863  32.912 103.024  1.00  0.00     0.009 C ',\n",
       " 'ATOM     17 C14  LIG L   1      27.437  34.607 104.299  1.00  0.00     0.008 C ',\n",
       " 'ATOM     18 C15  LIG L   1      31.150  34.727 103.848  1.00  0.00     0.184 C ',\n",
       " 'ATOM     19 C16  LIG L   1      29.369  36.352 104.038  1.00  0.00     0.140 C ',\n",
       " 'ATOM     20 C17  LIG L   1      30.296  32.631 102.714  1.00  0.00     0.067 C ',\n",
       " 'ATOM     21 C18  LIG L   1      31.603  33.489 103.061  1.00  0.00     0.192 C ',\n",
       " 'ATOM     22 C19  LIG L   1      28.044  36.791 104.394  1.00  0.00     0.078 C ',\n",
       " 'ATOM     23  O2  LIG L   1      30.309  37.195 103.838  1.00  0.00    -0.297 OA',\n",
       " 'BRANCH   18   24',\n",
       " 'ATOM     24  O3  LIG L   1      31.966  35.094 104.874  1.00  0.00    -0.386 OA',\n",
       " 'ATOM     25  H2  LIG L   1      31.531  34.874 105.736  1.00  0.00     0.210 HD',\n",
       " 'ENDBRANCH   18   24',\n",
       " 'BRANCH   21   26',\n",
       " 'ATOM     26  O4  LIG L   1      32.154  33.859 101.682  1.00  0.00    -0.363 OA',\n",
       " 'ATOM     27  H3  LIG L   1      32.986  34.387 101.790  1.00  0.00     0.213 HD',\n",
       " 'ENDBRANCH   21   26',\n",
       " 'BRANCH   21   28',\n",
       " 'ATOM     28  O5  LIG L   1      32.811  32.963 103.713  1.00  0.00    -0.363 OA',\n",
       " 'ATOM     29  H4  LIG L   1      32.691  32.984 104.696  1.00  0.00     0.213 HD',\n",
       " 'ENDBRANCH   21   28',\n",
       " 'ENDBRANCH   12   13',\n",
       " 'ENDBRANCH    2   12',\n",
       " 'BRANCH    6   30',\n",
       " 'ATOM     30 C20  LIG L   1      25.797  34.364 107.738  1.00  0.00     0.178 C ',\n",
       " 'BRANCH   30   31',\n",
       " 'ATOM     31  O6  LIG L   1      24.983  34.670 108.825  1.00  0.00    -0.393 OA',\n",
       " 'ATOM     32  H5  LIG L   1      25.485  34.524 109.665  1.00  0.00     0.209 HD',\n",
       " 'ENDBRANCH   30   31',\n",
       " 'ENDBRANCH    6   30',\n",
       " 'BRANCH   10   33',\n",
       " 'ATOM     33 C21  LIG L   1      21.320  31.310 105.661  1.00  0.00    -0.005 C ',\n",
       " 'ATOM     34 C22  LIG L   1      20.990  30.818 104.195  1.00  0.00     0.008 C ',\n",
       " 'ATOM     35 C23  LIG L   1      22.253  30.079 106.025  1.00  0.00     0.008 C ',\n",
       " 'ENDBRANCH   10   33',\n",
       " 'BRANCH    5   36',\n",
       " 'ATOM     36 C24  LIG L   1      24.966  35.180 101.304  1.00  0.00     0.120 C ',\n",
       " 'ATOM     37  N2  LIG L   1      25.246  36.273 100.721  1.00  0.00    -0.244 NA',\n",
       " 'BRANCH   37   38',\n",
       " 'ATOM     38 C25  LIG L   1      24.478  36.633  99.675  1.00  0.00     0.212 C ',\n",
       " 'ATOM     39  N3  LIG L   1      23.522  36.027  99.460  1.00  0.00    -0.289 NA',\n",
       " 'ATOM     40  H6  LIG L   1      22.917  36.283  98.666  1.00  0.00     0.188 HD',\n",
       " 'ENDBRANCH   37   38',\n",
       " 'ENDBRANCH    5   36',\n",
       " 'TORSDOF 10',\n",
       " '']"
      ]
     },
     "execution_count": 102,
     "metadata": {},
     "output_type": "execute_result"
    }
   ],
   "source": [
    "pose.split(\"\\n\")"
   ]
  },
  {
   "cell_type": "code",
   "execution_count": 96,
   "metadata": {},
   "outputs": [],
   "source": [
    "from rdkit.Geometry import Point3D"
   ]
  },
  {
   "cell_type": "code",
   "execution_count": 97,
   "metadata": {},
   "outputs": [],
   "source": [
    "lines = pose.split(\"\\n\")\n",
    "lines = [line for line in lines if line.startswith(\"ATOM\")]\n",
    "\n",
    "# remove hyodrogen atoms\n",
    "lines = [line for line in lines if not line[12:14].strip().startswith(\"H\")]\n",
    "\n",
    "# get coords\n",
    "coords = []\n",
    "for line in lines:\n",
    "    coords.append([float(line[30:38]), float(line[38:46]), float(line[46:54])])\n",
    "\n",
    "conformer = mol.GetConformer()\n",
    "\n",
    "# Set mol coords to pose coords\n",
    "for i, atom in enumerate(mol.GetAtoms()):\n",
    "    new_coord = Point3D(coords[i][0], coords[i][1], coords[i][2])\n",
    "    conformer.SetAtomPosition(i, new_coord)"
   ]
  },
  {
   "cell_type": "code",
   "execution_count": 104,
   "metadata": {},
   "outputs": [
    {
     "name": "stderr",
     "output_type": "stream",
     "text": [
      "[10:35:05] Cannot convert 'ATO' to unsigned int on line 4\n"
     ]
    }
   ],
   "source": [
    "sdf_string = \"<your SDF string here>\"\n",
    "\n",
    "# Create an RDKit molecule from the SDF string\n",
    "mol = Chem.MolFromMolBlock(pose)"
   ]
  },
  {
   "cell_type": "code",
   "execution_count": 99,
   "metadata": {},
   "outputs": [
    {
     "data": {
      "text/plain": [
       "['ATOM      1  C1  LIG L   1      22.214  33.380 106.899  1.00  0.00     0.217 C ',\n",
       " 'ATOM      2  C2  LIG L   1      25.247  34.191 105.515  1.00  0.00     0.045 C ',\n",
       " 'ATOM      3  C3  LIG L   1      23.238  32.764 104.753  1.00  0.00     0.052 C ',\n",
       " 'ATOM      4  N1  LIG L   1      23.401  34.099 107.041  1.00  0.00    -0.309 N ',\n",
       " 'ATOM      5  C4  LIG L   1      25.279  34.765 102.452  1.00  0.00     0.071 C ',\n",
       " 'ATOM      6  C5  LIG L   1      24.804  33.977 106.807  1.00  0.00     0.106 C ',\n",
       " 'ATOM      7  O1  LIG L   1      21.019  33.796 107.289  1.00  0.00    -0.275 OA',\n",
       " 'ATOM      8  C6  LIG L   1      24.709  34.029 103.303  1.00  0.00    -0.119 C ',\n",
       " 'ATOM      9  C7  LIG L   1      24.337  33.648 104.531  1.00  0.00    -0.022 C ',\n",
       " 'ATOM     10  C8  LIG L   1      22.078  32.602 105.628  1.00  0.00     0.082 C ',\n",
       " 'ATOM     12  C9  LIG L   1      26.429  34.812 105.019  1.00  0.00     0.014 C ',\n",
       " 'ATOM     13 C10  LIG L   1      27.088  35.730 104.556  1.00  0.00    -0.003 C ',\n",
       " 'ATOM     14 C11  LIG L   1      28.648  34.120 103.821  1.00  0.00     0.002 C ',\n",
       " 'ATOM     15 C12  LIG L   1      29.744  34.987 103.886  1.00  0.00     0.092 C ',\n",
       " 'ATOM     16 C13  LIG L   1      28.863  32.912 103.024  1.00  0.00     0.009 C ',\n",
       " 'ATOM     17 C14  LIG L   1      27.437  34.607 104.299  1.00  0.00     0.008 C ',\n",
       " 'ATOM     18 C15  LIG L   1      31.150  34.727 103.848  1.00  0.00     0.184 C ',\n",
       " 'ATOM     19 C16  LIG L   1      29.369  36.352 104.038  1.00  0.00     0.140 C ',\n",
       " 'ATOM     20 C17  LIG L   1      30.296  32.631 102.714  1.00  0.00     0.067 C ',\n",
       " 'ATOM     21 C18  LIG L   1      31.603  33.489 103.061  1.00  0.00     0.192 C ',\n",
       " 'ATOM     22 C19  LIG L   1      28.044  36.791 104.394  1.00  0.00     0.078 C ',\n",
       " 'ATOM     23  O2  LIG L   1      30.309  37.195 103.838  1.00  0.00    -0.297 OA',\n",
       " 'ATOM     24  O3  LIG L   1      31.966  35.094 104.874  1.00  0.00    -0.386 OA',\n",
       " 'ATOM     26  O4  LIG L   1      32.154  33.859 101.682  1.00  0.00    -0.363 OA',\n",
       " 'ATOM     28  O5  LIG L   1      32.811  32.963 103.713  1.00  0.00    -0.363 OA',\n",
       " 'ATOM     30 C20  LIG L   1      25.797  34.364 107.738  1.00  0.00     0.178 C ',\n",
       " 'ATOM     31  O6  LIG L   1      24.983  34.670 108.825  1.00  0.00    -0.393 OA',\n",
       " 'ATOM     33 C21  LIG L   1      21.320  31.310 105.661  1.00  0.00    -0.005 C ',\n",
       " 'ATOM     34 C22  LIG L   1      20.990  30.818 104.195  1.00  0.00     0.008 C ',\n",
       " 'ATOM     35 C23  LIG L   1      22.253  30.079 106.025  1.00  0.00     0.008 C ',\n",
       " 'ATOM     36 C24  LIG L   1      24.966  35.180 101.304  1.00  0.00     0.120 C ',\n",
       " 'ATOM     37  N2  LIG L   1      25.246  36.273 100.721  1.00  0.00    -0.244 NA',\n",
       " 'ATOM     38 C25  LIG L   1      24.478  36.633  99.675  1.00  0.00     0.212 C ',\n",
       " 'ATOM     39  N3  LIG L   1      23.522  36.027  99.460  1.00  0.00    -0.289 NA']"
      ]
     },
     "execution_count": 99,
     "metadata": {},
     "output_type": "execute_result"
    }
   ],
   "source": [
    "lines"
   ]
  },
  {
   "cell_type": "code",
   "execution_count": 98,
   "metadata": {},
   "outputs": [
    {
     "data": {
      "image/png": "[encoded data removed]",
      "text/plain": [
       "<rdkit.Chem.rdchem.Mol at 0x112547650>"
      ]
     },
     "execution_count": 98,
     "metadata": {},
     "output_type": "execute_result"
    }
   ],
   "source": [
    "mol"
   ]
  }
 ],
 "metadata": {
  "kernelspec": {
   "display_name": "poses",
   "language": "python",
   "name": "python3"
  },
  "language_info": {
   "codemirror_mode": {
    "name": "ipython",
    "version": 3
   },
   "file_extension": ".py",
   "mimetype": "text/x-python",
   "name": "python",
   "nbconvert_exporter": "python",
   "pygments_lexer": "ipython3",
   "version": "3.11.1"
  },
  "orig_nbformat": 4
 },
 "nbformat": 4,
 "nbformat_minor": 2
}
