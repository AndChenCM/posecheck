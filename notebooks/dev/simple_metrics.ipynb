{
 "cells": [
  {
   "cell_type": "code",
   "execution_count": 1,
   "metadata": {},
   "outputs": [
    {
     "name": "stdout",
     "output_type": "stream",
     "text": [
      "The autoreload module is not an IPython extension.\n"
     ]
    },
    {
     "name": "stderr",
     "output_type": "stream",
     "text": [
      "UsageError: Line magic function `%autoreload` not found.\n"
     ]
    }
   ],
   "source": [
    "%load_ext autoreload\n",
    "%autoreload 2\n",
    "%matplotlib inline"
   ]
  },
  {
   "attachments": {},
   "cell_type": "markdown",
   "metadata": {},
   "source": [
    "## Imports"
   ]
  },
  {
   "cell_type": "code",
   "execution_count": 2,
   "metadata": {},
   "outputs": [],
   "source": [
    "import MDAnalysis as mda\n",
    "import prolif as plf\n",
    "import numpy as np\n",
    "import pandas as pd\n",
    "from rdkit import DataStructs\n",
    "import glob\n",
    "from tqdm import tqdm\n",
    "import os\n",
    "import seaborn as sns\n",
    "import datamol as dm\n",
    "import rdkit\n",
    "import matplotlib.pyplot as plt\n",
    "import torch\n",
    "import warnings\n",
    "from rdkit.Chem import AllChem\n",
    "from copy import deepcopy\n",
    "import rdkit.Chem as Chem\n",
    "\n",
    "from src.data.datasets import *\n",
    "from src.utils.prolif import (\n",
    "    merge_interaction_dfs,\n",
    "    generate_interaction_df,\n",
    "    calculate_interaction_similarity,\n",
    ")"
   ]
  },
  {
   "attachments": {},
   "cell_type": "markdown",
   "metadata": {},
   "source": [
    "## Main"
   ]
  },
  {
   "cell_type": "code",
   "execution_count": 3,
   "metadata": {},
   "outputs": [],
   "source": [
    "crossdocked = get_dataset(\"crossdocked\")\n",
    "zinc = get_dataset(\"zinc\")\n",
    "diffsbdd = get_dataset(\"diffsbdd\")\n",
    "targetdiff = get_dataset(\"targetdiff\")\n",
    "cvae = get_dataset(\"cvae\")\n",
    "sbdd = get_dataset(\"sbdd\")\n",
    "p2m = get_dataset(\"p2m\")"
   ]
  },
  {
   "cell_type": "code",
   "execution_count": 4,
   "metadata": {},
   "outputs": [],
   "source": [
    "crossdocked_paths = glob.glob(\n",
    "    \"/Users/charlie/projects/poses_benchmark/data/crossdocked/**/*.sdf\", recursive=True\n",
    ")\n",
    "sbdd_paths = glob.glob(\n",
    "    \"/Users/charlie/projects/poses_benchmark/data/benchmarks/sbdd/**/*.sdf\",\n",
    "    recursive=True,\n",
    ")\n",
    "p2m_paths = glob.glob(\n",
    "    \"/Users/charlie/projects/poses_benchmark/data/benchmarks/p2m/**/*.sdf\",\n",
    "    recursive=True,\n",
    ")\n",
    "cvae_paths = glob.glob(\n",
    "    \"/Users/charlie/projects/poses_benchmark/data/benchmarks/cvae/**/*.sdf\",\n",
    "    recursive=True,\n",
    ")\n",
    "diffsbdd_paths = glob.glob(\n",
    "    \"/Users/charlie/projects/poses_benchmark/data/diffsbdd_conditional_fullatom/**/*.sdf\",\n",
    "    recursive=True,\n",
    ")\n",
    "\n",
    "targetdiff_path = \"/Users/charlie/projects/poses_benchmark/data/benchmarks/targetdiff/targetdiff_vina_docked.pt\"\n",
    "data = torch.load(targetdiff_path)"
   ]
  },
  {
   "cell_type": "code",
   "execution_count": 5,
   "metadata": {},
   "outputs": [
    {
     "data": {
      "text/plain": [
       "9036"
      ]
     },
     "execution_count": 5,
     "metadata": {},
     "output_type": "execute_result"
    }
   ],
   "source": [
    "targetdiff = []\n",
    "\n",
    "for target in data:\n",
    "    for mol in target:\n",
    "        targetdiff.append(mol[\"mol\"])\n",
    "\n",
    "\n",
    "len(targetdiff)"
   ]
  },
  {
   "cell_type": "code",
   "execution_count": null,
   "metadata": {},
   "outputs": [],
   "source": [
    "crossdocked = []\n",
    "for path in crossdocked_paths:\n",
    "    crossdocked.extend(dm.read_sdf(path))\n",
    "\n",
    "sbdd = []\n",
    "for path in sbdd_paths:\n",
    "    sbdd.extend(dm.read_sdf(path))\n",
    "\n",
    "p2m = []\n",
    "for path in p2m_paths:\n",
    "    p2m.extend(dm.read_sdf(path))\n",
    "\n",
    "cvae = []\n",
    "for path in cvae_paths:\n",
    "    cvae.extend(dm.read_sdf(path))\n",
    "\n",
    "diffsbdd = []\n",
    "for path in diffsbdd_paths:\n",
    "    diffsbdd.extend(dm.read_sdf(path))"
   ]
  },
  {
   "cell_type": "code",
   "execution_count": 8,
   "metadata": {},
   "outputs": [
    {
     "name": "stdout",
     "output_type": "stream",
     "text": [
      "100\n",
      "8220\n",
      "11609\n",
      "8186\n",
      "9352\n",
      "9036\n"
     ]
    }
   ],
   "source": [
    "print(len(crossdocked))\n",
    "print(len(sbdd))\n",
    "print(len(p2m))\n",
    "print(len(cvae))\n",
    "print(len(diffsbdd))\n",
    "print(len(targetdiff))"
   ]
  },
  {
   "cell_type": "code",
   "execution_count": 9,
   "metadata": {},
   "outputs": [],
   "source": [
    "from SA_Score import sascorer"
   ]
  },
  {
   "cell_type": "code",
   "execution_count": 19,
   "metadata": {},
   "outputs": [],
   "source": [
    "def sa_score(mol):\n",
    "    sa = sascorer.calculateScore(mol)\n",
    "    return round((10 - sa) / 9, 3)"
   ]
  },
  {
   "cell_type": "code",
   "execution_count": 71,
   "metadata": {},
   "outputs": [],
   "source": [
    "def list_to_df(mols):\n",
    "    print(\"Calculating QED\")\n",
    "    qeds = [Chem.QED.qed(mol) for mol in tqdm(mols)]\n",
    "    print(\"Calculating SA\")\n",
    "    sas = [sa_score(mol) for mol in tqdm(mols)]\n",
    "\n",
    "    df = pd.DataFrame({\"mol\": mols, \"qed\": qeds, \"sa\": sas})\n",
    "\n",
    "    return df"
   ]
  },
  {
   "cell_type": "code",
   "execution_count": 72,
   "metadata": {},
   "outputs": [
    {
     "name": "stdout",
     "output_type": "stream",
     "text": [
      "Calculating QED\n"
     ]
    },
    {
     "name": "stderr",
     "output_type": "stream",
     "text": [
      "100%|██████████| 100/100 [00:00<00:00, 507.40it/s]\n"
     ]
    },
    {
     "name": "stdout",
     "output_type": "stream",
     "text": [
      "Calculating SA\n"
     ]
    },
    {
     "name": "stderr",
     "output_type": "stream",
     "text": [
      "100%|██████████| 100/100 [00:00<00:00, 226.30it/s]\n"
     ]
    },
    {
     "name": "stdout",
     "output_type": "stream",
     "text": [
      "Calculating QED\n"
     ]
    },
    {
     "name": "stderr",
     "output_type": "stream",
     "text": [
      "100%|██████████| 9352/9352 [00:10<00:00, 901.84it/s] \n"
     ]
    },
    {
     "name": "stdout",
     "output_type": "stream",
     "text": [
      "Calculating SA\n"
     ]
    },
    {
     "name": "stderr",
     "output_type": "stream",
     "text": [
      "100%|██████████| 9352/9352 [00:37<00:00, 251.52it/s]\n"
     ]
    },
    {
     "name": "stdout",
     "output_type": "stream",
     "text": [
      "Calculating QED\n"
     ]
    },
    {
     "name": "stderr",
     "output_type": "stream",
     "text": [
      "100%|██████████| 9036/9036 [00:13<00:00, 688.53it/s]\n"
     ]
    },
    {
     "name": "stdout",
     "output_type": "stream",
     "text": [
      "Calculating SA\n"
     ]
    },
    {
     "name": "stderr",
     "output_type": "stream",
     "text": [
      "100%|██████████| 9036/9036 [00:38<00:00, 232.25it/s]\n"
     ]
    },
    {
     "name": "stdout",
     "output_type": "stream",
     "text": [
      "Calculating QED\n"
     ]
    },
    {
     "name": "stderr",
     "output_type": "stream",
     "text": [
      "100%|██████████| 11609/11609 [00:13<00:00, 874.39it/s] \n"
     ]
    },
    {
     "name": "stdout",
     "output_type": "stream",
     "text": [
      "Calculating SA\n"
     ]
    },
    {
     "name": "stderr",
     "output_type": "stream",
     "text": [
      "100%|██████████| 11609/11609 [00:48<00:00, 240.32it/s]\n"
     ]
    },
    {
     "name": "stdout",
     "output_type": "stream",
     "text": [
      "Calculating QED\n"
     ]
    },
    {
     "name": "stderr",
     "output_type": "stream",
     "text": [
      "100%|██████████| 8220/8220 [00:08<00:00, 940.54it/s] \n"
     ]
    },
    {
     "name": "stdout",
     "output_type": "stream",
     "text": [
      "Calculating SA\n"
     ]
    },
    {
     "name": "stderr",
     "output_type": "stream",
     "text": [
      "100%|██████████| 8220/8220 [00:28<00:00, 286.94it/s]\n"
     ]
    },
    {
     "name": "stdout",
     "output_type": "stream",
     "text": [
      "Calculating QED\n"
     ]
    },
    {
     "name": "stderr",
     "output_type": "stream",
     "text": [
      "100%|██████████| 8186/8186 [00:09<00:00, 819.68it/s] \n"
     ]
    },
    {
     "name": "stdout",
     "output_type": "stream",
     "text": [
      "Calculating SA\n"
     ]
    },
    {
     "name": "stderr",
     "output_type": "stream",
     "text": [
      "100%|██████████| 8186/8186 [00:25<00:00, 322.90it/s]\n"
     ]
    }
   ],
   "source": [
    "crossdocked_df = list_to_df(crossdocked)\n",
    "diffsbdd_df = list_to_df(diffsbdd)\n",
    "targetdiff_df = list_to_df(targetdiff)\n",
    "p2m_df = list_to_df(p2m)\n",
    "sbdd_df = list_to_df(sbdd)\n",
    "cvae_df = list_to_df(cvae)"
   ]
  },
  {
   "cell_type": "code",
   "execution_count": 80,
   "metadata": {},
   "outputs": [
    {
     "data": {
      "image/png": "[encoded data removed]",
      "text/plain": [
       "<Figure size 900x600 with 6 Axes>"
      ]
     },
     "metadata": {},
     "output_type": "display_data"
    }
   ],
   "source": [
    "fig, axs = plt.subplots(2, 3, figsize=(9, 6))\n",
    "\n",
    "datasets = [crossdocked_df, diffsbdd_df, targetdiff_df, p2m_df, sbdd_df, cvae_df]\n",
    "titles = [\"CrossDocked\", \"DiffSBDD\", \"TargetDiff\", \"P2M\", \"3DSBDD\", \"LiGAN\"]\n",
    "\n",
    "for i in range(2):\n",
    "    for j in range(3):\n",
    "        dataset = datasets[i * 3 + j]\n",
    "        # axs[i, j].scatter(dataset['qed'], dataset['sa'], s=1)\n",
    "        sns.kdeplot(\n",
    "            data=dataset,\n",
    "            x=\"qed\",\n",
    "            y=\"sa\",\n",
    "            ax=axs[i, j],\n",
    "            fill=True,\n",
    "            levels=10,\n",
    "            cmap=\"crest\" if i + j == 0 else \"flare\",\n",
    "        )\n",
    "        axs[i, j].set_xlabel(\"QED\")\n",
    "        axs[i, j].set_ylabel(\"SA\")\n",
    "        axs[i, j].set_xlim(0, 1)\n",
    "        axs[i, j].set_ylim(0, 1)\n",
    "        axs[i, j].set_title(titles[i * 3 + j])\n",
    "\n",
    "plt.tight_layout()\n",
    "plt.savefig(\"figures/2d_metrics.pdf\", dpi=300)"
   ]
  }
 ],
 "metadata": {
  "kernelspec": {
   "display_name": "poses",
   "language": "python",
   "name": "python3"
  },
  "language_info": {
   "codemirror_mode": {
    "name": "ipython",
    "version": 3
   },
   "file_extension": ".py",
   "mimetype": "text/x-python",
   "name": "python",
   "nbconvert_exporter": "python",
   "pygments_lexer": "ipython3",
   "version": "3.11.1"
  },
  "orig_nbformat": 4
 },
 "nbformat": 4,
 "nbformat_minor": 2
}
