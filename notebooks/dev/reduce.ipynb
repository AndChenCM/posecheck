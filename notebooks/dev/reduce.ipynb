{
 "cells": [
  {
   "cell_type": "code",
   "execution_count": 30,
   "metadata": {},
   "outputs": [],
   "source": [
    "from src.utils.constants import REDUCE_PATH, SPLIT_PATH\n",
    "import unittest\n",
    "import os\n",
    "import subprocess"
   ]
  },
  {
   "cell_type": "code",
   "execution_count": 31,
   "metadata": {},
   "outputs": [],
   "source": [
    "\n",
    "command = REDUCE_PATH\n",
    "\n",
    "command = REDUCE_PATH + ' -NOFLIP /home/cch57/projects/poses_benchmark/data/examples/1a2g.pdb'\n",
    "\n",
    "# YOUR_CODE\n",
    "exit_response = subprocess.run(command, capture_output=True, text=True, shell=True)\n",
    "\n",
    "exit_response\n",
    "\n",
    "class TestReduce(unittest.TestCase):\n",
    "    \n",
    "    def test_reduce_exists(self):\n",
    "        command = REDUCE_PATH\n",
    "        exit_response = subprocess.run(command, capture_output=True, text=True, shell=True)\n",
    "        self.assertEqual(exit_response.returncode, 1)\n",
    "\n",
    "    def test_reduce_executable(self):\n",
    "        command = REDUCE_PATH + ' -NOFLIP data/examples/1a2g.pdb'\n",
    "        exit_response = subprocess.run(command, capture_output=True, text=True, shell=True)\n",
    "        self.assertEqual(exit_response.returncode, 0)\n"
   ]
  },
  {
   "cell_type": "code",
   "execution_count": 32,
   "metadata": {},
   "outputs": [],
   "source": [
    "test = TestReduce()\n",
    "test.test_reduce_executable()"
   ]
  },
  {
   "cell_type": "code",
   "execution_count": 33,
   "metadata": {},
   "outputs": [
    {
     "ename": "UnpicklingError",
     "evalue": "A load persistent id instruction was encountered,\nbut no persistent_load function was specified.",
     "output_type": "error",
     "traceback": [
      "\u001b[0;31m---------------------------------------------------------------------------\u001b[0m",
      "\u001b[0;31mUnpicklingError\u001b[0m                           Traceback (most recent call last)",
      "Cell \u001b[0;32mIn[33], line 7\u001b[0m\n\u001b[1;32m      4\u001b[0m \u001b[39mimport\u001b[39;00m \u001b[39mpickle\u001b[39;00m\n\u001b[1;32m      6\u001b[0m \u001b[39mwith\u001b[39;00m \u001b[39mopen\u001b[39m(SPLIT_PATH, \u001b[39m'\u001b[39m\u001b[39mrb\u001b[39m\u001b[39m'\u001b[39m) \u001b[39mas\u001b[39;00m f:\n\u001b[0;32m----> 7\u001b[0m     data \u001b[39m=\u001b[39m pickle\u001b[39m.\u001b[39;49mload(f)\n\u001b[1;32m      9\u001b[0m data\n",
      "\u001b[0;31mUnpicklingError\u001b[0m: A load persistent id instruction was encountered,\nbut no persistent_load function was specified."
     ]
    }
   ],
   "source": [
    "SPLIT_PATH\n",
    "\n",
    "# open pickel file\n",
    "import pickle\n",
    "\n",
    "with open(SPLIT_PATH, 'rb') as f:\n",
    "    data = pickle.load(f)\n",
    "    \n",
    "data"
   ]
  },
  {
   "cell_type": "code",
   "execution_count": 35,
   "metadata": {},
   "outputs": [],
   "source": [
    "import torch\n"
   ]
  },
  {
   "cell_type": "code",
   "execution_count": 37,
   "metadata": {},
   "outputs": [],
   "source": [
    "data = torch.load(SPLIT_PATH)"
   ]
  },
  {
   "cell_type": "code",
   "execution_count": 45,
   "metadata": {},
   "outputs": [
    {
     "data": {
      "text/plain": [
       "'/home/cch57/projects/poses_benchmark/src/utils/../../data/split_by_name.pt'"
      ]
     },
     "execution_count": 45,
     "metadata": {},
     "output_type": "execute_result"
    }
   ],
   "source": [
    "SPLIT_PATH"
   ]
  },
  {
   "cell_type": "code",
   "execution_count": 47,
   "metadata": {},
   "outputs": [
    {
     "data": {
      "text/plain": [
       "'/home/cch57/projects/poses_benchmark/src/utils/../../data/split_by_name.yaml'"
      ]
     },
     "execution_count": 47,
     "metadata": {},
     "output_type": "execute_result"
    }
   ],
   "source": [
    "SPLIT_PATH.split('.pt')[0] + '.yaml'"
   ]
  },
  {
   "cell_type": "code",
   "execution_count": 52,
   "metadata": {},
   "outputs": [
    {
     "data": {
      "text/plain": [
       "[('BSD_ASPTE_1_130_0/2z3h_A_rec_1wn6_bst_lig_tt_docked_3_pocket10.pdb',\n",
       "  'BSD_ASPTE_1_130_0/2z3h_A_rec_1wn6_bst_lig_tt_docked_3.sdf'),\n",
       " ('GLMU_STRPN_2_459_0/4aaw_A_rec_4ac3_r83_lig_tt_min_0_pocket10.pdb',\n",
       "  'GLMU_STRPN_2_459_0/4aaw_A_rec_4ac3_r83_lig_tt_min_0.sdf'),\n",
       " ('GRK4_HUMAN_1_578_0/4yhj_A_rec_4yhj_an2_lig_tt_min_0_pocket10.pdb',\n",
       "  'GRK4_HUMAN_1_578_0/4yhj_A_rec_4yhj_an2_lig_tt_min_0.sdf'),\n",
       " ('GSTP1_HUMAN_2_210_0/14gs_A_rec_20gs_cbd_lig_tt_min_0_pocket10.pdb',\n",
       "  'GSTP1_HUMAN_2_210_0/14gs_A_rec_20gs_cbd_lig_tt_min_0.sdf')]"
      ]
     },
     "execution_count": 52,
     "metadata": {},
     "output_type": "execute_result"
    }
   ],
   "source": [
    "data['test'][:4]"
   ]
  },
  {
   "cell_type": "code",
   "execution_count": 53,
   "metadata": {},
   "outputs": [],
   "source": [
    "data\n",
    "\n",
    "# save to pickle file\n",
    "import pickle\n",
    "\n",
    "with open(SPLIT_PATH.split('.pt')[0] + '.yaml', 'wb') as f:\n",
    "    pickle.dump(data, f)"
   ]
  },
  {
   "cell_type": "code",
   "execution_count": null,
   "metadata": {},
   "outputs": [],
   "source": [
    "# load pickle file\n",
    "\n",
    "with open(SPLIT_PATH.split('.pt')[0] + '.yaml', 'rb') as f:\n",
    "    data = pickle.load(f)"
   ]
  }
 ],
 "metadata": {
  "kernelspec": {
   "display_name": "Python 3",
   "language": "python",
   "name": "python3"
  },
  "language_info": {
   "codemirror_mode": {
    "name": "ipython",
    "version": 3
   },
   "file_extension": ".py",
   "mimetype": "text/x-python",
   "name": "python",
   "nbconvert_exporter": "python",
   "pygments_lexer": "ipython3",
   "version": "3.11.4"
  },
  "orig_nbformat": 4
 },
 "nbformat": 4,
 "nbformat_minor": 2
}
