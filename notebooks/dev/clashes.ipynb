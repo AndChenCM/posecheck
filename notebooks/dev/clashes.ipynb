{
 "cells": [
  {
   "cell_type": "code",
   "execution_count": 20,
   "metadata": {},
   "outputs": [],
   "source": [
    "import rdkit.Chem as Chem\n",
    "from rdkit.Chem import AllChem\n",
    "import rdkit\n",
    "import numpy as np\n",
    "from tqdm import tqdm\n",
    "\n",
    "import matplotlib.pyplot as plt\n",
    "import seaborn as sns\n",
    "from src.data.datasets import *"
   ]
  },
  {
   "cell_type": "code",
   "execution_count": null,
   "metadata": {},
   "outputs": [],
   "source": [
    "dataset = DiffSBDDSamples(docked=False)\n",
    "\n",
    "prot, mol = dataset[0]"
   ]
  },
  {
   "cell_type": "code",
   "execution_count": null,
   "metadata": {},
   "outputs": [],
   "source": [
    "def count_clashes(prot, lig, tollerance=0.5):\n",
    "    clashes = 0\n",
    "\n",
    "    n_lig_atoms = int(lig.GetNumAtoms())\n",
    "    n_prot_atoms = int(prot.GetNumAtoms())\n",
    "\n",
    "    pt = Chem.GetPeriodicTable()\n",
    "\n",
    "    prot_pos = prot.GetConformer().GetPositions()\n",
    "    lig_pos = lig.GetConformer().GetPositions()\n",
    "\n",
    "    # Calculate the distance between all atoms in the protein and the ligand\n",
    "    dists = np.sqrt(((prot_pos[:, None, :] - lig_pos[None, :, :]) ** 2).sum(axis=-1))\n",
    "\n",
    "    for i in range(n_lig_atoms):\n",
    "        for j in range(n_prot_atoms):\n",
    "            dist = dists[j, i]\n",
    "\n",
    "            lig_vdw = pt.GetRvdw(lig.GetAtomWithIdx(i).GetAtomicNum())\n",
    "            prot_vdw = pt.GetRvdw(prot.GetAtomWithIdx(j).GetAtomicNum())\n",
    "\n",
    "            if dist + tollerance < lig_vdw + prot_vdw:\n",
    "                clashes += 1\n",
    "    return clashes\n",
    "\n",
    "\n",
    "[count_clashes(prot, mol[0]) for i in tqdm(range(100))]"
   ]
  },
  {
   "cell_type": "code",
   "execution_count": 12,
   "metadata": {},
   "outputs": [
    {
     "data": {
      "text/plain": [
       "398"
      ]
     },
     "execution_count": 12,
     "metadata": {},
     "output_type": "execute_result"
    }
   ],
   "source": [
    "count_clashes(prot, mol[0])"
   ]
  },
  {
   "cell_type": "code",
   "execution_count": 15,
   "metadata": {},
   "outputs": [],
   "source": [
    "def count_clashes(prot, lig, tollerance=0.5):\n",
    "    clashes = 0\n",
    "\n",
    "    n_lig_atoms = int(lig.GetNumAtoms())\n",
    "    n_prot_atoms = int(prot.GetNumAtoms())\n",
    "\n",
    "    pt = Chem.GetPeriodicTable()\n",
    "\n",
    "    prot_pos = prot.GetConformer().GetPositions()\n",
    "    lig_pos = lig.GetConformer().GetPositions()\n",
    "\n",
    "    # Calculate the distance between all atoms in the protein and the ligand\n",
    "    dists = np.sqrt(((prot_pos[:, None, :] - lig_pos[None, :, :]) ** 2).sum(axis=-1))\n",
    "\n",
    "    # make list of van der waals radii\n",
    "    lig_vdw = [\n",
    "        pt.GetRvdw(lig.GetAtomWithIdx(i).GetAtomicNum()) for i in range(n_lig_atoms)\n",
    "    ]\n",
    "    prot_vdw = [\n",
    "        pt.GetRvdw(prot.GetAtomWithIdx(i).GetAtomicNum()) for i in range(n_prot_atoms)\n",
    "    ]\n",
    "\n",
    "    # make array of sums of van der waals radii\n",
    "    vdw_sums = (np.array(lig_vdw)[:, None] + np.array(prot_vdw)[None, :]).T\n",
    "\n",
    "    # clashes = np.sum(dists < vdw_sums + tollerance)\n",
    "\n",
    "    # return clashes\n",
    "    return dists, vdw_sums\n",
    "\n",
    "\n",
    "# for data in tqdm(dataset):\n",
    "#     prot, mols = data\n",
    "#     for mol in mols:\n",
    "#         count_clashes(prot, mol)"
   ]
  },
  {
   "cell_type": "code",
   "execution_count": 24,
   "metadata": {},
   "outputs": [
    {
     "data": {
      "text/plain": [
       "87"
      ]
     },
     "execution_count": 24,
     "metadata": {},
     "output_type": "execute_result"
    }
   ],
   "source": [
    "count_clashes(prot, mol[0])"
   ]
  },
  {
   "cell_type": "code",
   "execution_count": 17,
   "metadata": {},
   "outputs": [],
   "source": [
    "dists_list = []\n",
    "vdw_sums_list = []\n",
    "\n",
    "for mol in mols:\n",
    "    dists, vdw_sums = count_clashes(prot, mol)\n",
    "    dists_list.append(dists)\n",
    "    vdw_sums_list.append(vdw_sums)"
   ]
  },
  {
   "cell_type": "code",
   "execution_count": 35,
   "metadata": {},
   "outputs": [
    {
     "data": {
      "text/plain": [
       "<matplotlib.lines.Line2D at 0x17e852ed0>"
      ]
     },
     "execution_count": 35,
     "metadata": {},
     "output_type": "execute_result"
    },
    {
     "data": {
      "image/png": "[encoded data removed]",
      "text/plain": [
       "<Figure size 640x480 with 1 Axes>"
      ]
     },
     "metadata": {},
     "output_type": "display_data"
    }
   ],
   "source": [
    "# Plot variation in number of clashes with threshold tollerance\n",
    "\n",
    "tollerances = np.linspace(-1, 0, 100)\n",
    "\n",
    "# baseline = [vdw_sums - dists for dists, vdw_sums in zip(dists_list, vdw_sums_list)]\n",
    "\n",
    "value = []\n",
    "\n",
    "for tollerance in tollerances:\n",
    "    clashes = [\n",
    "        np.sum(dists < vdw_sums + tollerance)\n",
    "        for dists, vdw_sums in zip(dists_list, vdw_sums_list)\n",
    "    ]\n",
    "    value.append(np.mean(clashes))\n",
    "\n",
    "plt.plot(tollerances, value)\n",
    "# plot v line at -0.5 on x axis\n",
    "plt.axvline(x=-0.5, color=\"r\", linestyle=\"--\")\n",
    "# plt.xticks(np.arange(-1, 2, 0.2))"
   ]
  }
 ],
 "metadata": {
  "kernelspec": {
   "display_name": "poses",
   "language": "python",
   "name": "python3"
  },
  "language_info": {
   "codemirror_mode": {
    "name": "ipython",
    "version": 3
   },
   "file_extension": ".py",
   "mimetype": "text/x-python",
   "name": "python",
   "nbconvert_exporter": "python",
   "pygments_lexer": "ipython3",
   "version": "3.11.1"
  },
  "orig_nbformat": 4
 },
 "nbformat": 4,
 "nbformat_minor": 2
}
