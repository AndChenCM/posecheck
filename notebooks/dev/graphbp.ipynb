{
 "cells": [
  {
   "cell_type": "code",
   "execution_count": 1,
   "metadata": {},
   "outputs": [
    {
     "name": "stderr",
     "output_type": "stream",
     "text": [
      "/home/cch57/projects/poses_benchmark/src/data/datasets.py:312: SyntaxWarning: \"is not\" with a literal. Did you mean \"!=\"?\n",
      "  if self.name is not \"crossdocked_test\":\n",
      "/home/cch57/projects/poses_benchmark/src/data/datasets.py:318: SyntaxWarning: \"is not\" with a literal. Did you mean \"!=\"?\n",
      "  if self.name is not \"crossdocked_test\":\n",
      "/home/cch57/micromamba/envs/poses/lib/python3.11/site-packages/tqdm/auto.py:21: TqdmWarning: IProgress not found. Please update jupyter and ipywidgets. See https://ipywidgets.readthedocs.io/en/stable/user_install.html\n",
      "  from .autonotebook import tqdm as notebook_tqdm\n",
      "/home/cch57/micromamba/envs/poses/lib/python3.11/site-packages/MDAnalysis/topology/TPRParser.py:161: DeprecationWarning: 'xdrlib' is deprecated and slated for removal in Python 3.13\n",
      "  import xdrlib\n"
     ]
    }
   ],
   "source": [
    "import rdkit\n",
    "import rdkit.Chem as Chem\n",
    "from rdkit.Chem import rdMolTransforms as rmt\n",
    "from copy import deepcopy\n",
    "import matplotlib.pyplot as plt\n",
    "import seaborn as sns\n",
    "import datamol as dm\n",
    "\n",
    "from src.data.datasets import *\n",
    "from rdkit.Chem import rdMolTransforms as rmt\n",
    "from rdkit.Chem import rdMolDescriptors"
   ]
  },
  {
   "cell_type": "code",
   "execution_count": 3,
   "metadata": {},
   "outputs": [],
   "source": [
    "# get directory of this file\n",
    "DATA_DIR = \"/home/cch57/projects/poses_benchmark/data\""
   ]
  },
  {
   "cell_type": "code",
   "execution_count": null,
   "metadata": {},
   "outputs": [],
   "source": [
    "        \n",
    "        # ! NOTE in the middle of refactoring to remove self.docked\n",
    "        # if self.docked:\n",
    "        #     return self.load_docked_mols(idx)\n",
    "        # elif not self.docked:\n",
    "        #     return self.load_generated_mols(idx)"
   ]
  }
 ],
 "metadata": {
  "kernelspec": {
   "display_name": "Python 3",
   "language": "python",
   "name": "python3"
  },
  "language_info": {
   "codemirror_mode": {
    "name": "ipython",
    "version": 3
   },
   "file_extension": ".py",
   "mimetype": "text/x-python",
   "name": "python",
   "nbconvert_exporter": "python",
   "pygments_lexer": "ipython3",
   "version": "3.11.4"
  },
  "orig_nbformat": 4
 },
 "nbformat": 4,
 "nbformat_minor": 2
}
